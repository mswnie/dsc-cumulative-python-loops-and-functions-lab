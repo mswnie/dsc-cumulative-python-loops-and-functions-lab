{
 "cells": [
  {
   "cell_type": "markdown",
   "metadata": {},
   "source": [
    "# Python Loops and Functions - Cumulative Lab\n",
    "\n",
    "## Introduction\n",
    "\n",
    "You made it through another section — excellent work! This cumulative lab will return to the Amazon product review dataset and allow you to flex your new skills.\n",
    "\n",
    "## Objectives\n",
    "\n",
    "You will be able to:\n",
    "\n",
    " - Recall what you learned in the previous section\n",
    " - Practice writing loops to pull multiple pieces of data from a dataset\n",
    " - Practice writing functions for organization and avoiding repetition\n",
    " \n",
    "## Your Task: Dynamically Query Amazon Review Data\n",
    "\n",
    "Once again, we are going to be working with data collected by Computer Science researchers at the University of California, San Diego. Their full paper citation is here:\n",
    "> **Justifying recommendations using distantly-labeled reviews and fined-grained aspects**\n",
    "Jianmo Ni, Jiacheng Li, Julian McAuley\n",
    "Empirical Methods in Natural Language Processing (EMNLP), 2019\n",
    "[pdf](http://cseweb.ucsd.edu/~jmcauley/pdfs/emnlp19a.pdf)\n",
    "\n",
    "We are still using a cleaned-up, coffee-specific, sample version of their [full dataset](https://nijianmo.github.io/amazon/index.html).\n",
    "\n",
    "![pouring coffee](https://curriculum-content.s3.amazonaws.com/data-science/images/coffee.jpg)\n",
    "<span>Photo by <a href=\"https://unsplash.com/@dumdidu?utm_source=unsplash&amp;utm_medium=referral&amp;utm_content=creditCopyText\">Philipp Cordts</a> on <a href=\"https://unsplash.com/s/photos/coffee-pot?utm_source=unsplash&amp;utm_medium=referral&amp;utm_content=creditCopyText\">Unsplash</a></span>\n",
    "\n",
    "In some cases, we will write the function signature for you, e.g. \n",
    "\n",
    "```python\n",
    "def review_sentiment(review):\n",
    "    # Replace None with appropriate code\n",
    "    None\n",
    "```\n",
    "\n",
    "Then you just need to fill in the relevant logic.\n",
    "\n",
    "In other cases, you will need to write the function signature yourself, e.g.\n",
    "\n",
    "```python\n",
    "# Your code here\n",
    "```\n",
    "\n",
    "### Requirements\n",
    "\n",
    "#### 1. Data Summary\n",
    "While reusing some code from the previous cumulative lab, write code to loop over all of the records in the dataset to summarize its contents, specifically in terms of overall review sentiment and the years when the reviews were written.\n",
    "\n",
    "#### 2. Subset Sample\n",
    "Provide a sample of records that meet particular criteria.\n",
    "\n",
    "#### 3. Individual Review Summary\n",
    "Refactor the code from the previous cumulative lab so that it is contained in a function and prompts the user to select which review to summarize.\n",
    "\n",
    "## Data Summary\n",
    "\n",
    "Once again, we've opened up the dataset and loaded it into a list of dictionaries called `reviews`."
   ]
  },
  {
   "cell_type": "code",
   "execution_count": 1,
   "metadata": {},
   "outputs": [
    {
     "data": {
      "text/plain": [
       "list"
      ]
     },
     "execution_count": 1,
     "metadata": {},
     "output_type": "execute_result"
    }
   ],
   "source": [
    "# Run this cell without changes\n",
    "import json\n",
    "with open(\"coffee_product_reviews.json\") as f:\n",
    "    reviews = json.load(f)\n",
    "type(reviews)"
   ]
  },
  {
   "cell_type": "code",
   "execution_count": 2,
   "metadata": {},
   "outputs": [
    {
     "data": {
      "text/plain": [
       "[{'rating': 5.0,\n",
       "  'reviewer_name': 'Sns073194',\n",
       "  'product_id': 'B00004RFRV',\n",
       "  'review_title': 'Perfect cafsito every time',\n",
       "  'review_time': '03 11, 2018',\n",
       "  'images': ['https://images-na.ssl-images-amazon.com/images/I/71d2cQEgJsL._SY88.jpg'],\n",
       "  'styles': {'Size:': ' 6-Cup', 'Color:': ' Silver'}},\n",
       " {'rating': 5.0,\n",
       "  'reviewer_name': 'Maverick',\n",
       "  'product_id': 'B00004RFRV',\n",
       "  'review_title': 'Delicious results from a wonderfully simple Bialetti Moka Express!',\n",
       "  'review_time': '12 3, 2017',\n",
       "  'images': ['https://images-na.ssl-images-amazon.com/images/I/61NG30sWdJL._SY88.jpg'],\n",
       "  'styles': {'Size:': ' 1-Cup', 'Color:': ' Silver'}},\n",
       " {'rating': 5.0,\n",
       "  'reviewer_name': 'Karen',\n",
       "  'product_id': 'B00004RFRV',\n",
       "  'review_title': 'Bialetti is the Best!',\n",
       "  'review_time': '11 12, 2017',\n",
       "  'images': ['https://images-na.ssl-images-amazon.com/images/I/81+XxFRGyBL._SY88.jpg'],\n",
       "  'styles': {'Size:': ' 12-Cup', 'Color:': ' Silver'}},\n",
       " {'rating': 5.0,\n",
       "  'reviewer_name': 'Feles (muy Mala)',\n",
       "  'product_id': 'B00004RFRV',\n",
       "  'review_title': 'Awesome portion control for one person!',\n",
       "  'review_time': '08 5, 2017',\n",
       "  'images': ['https://images-na.ssl-images-amazon.com/images/I/71BcwbkGyfL._SY88.jpg'],\n",
       "  'styles': {'Size:': ' 6-Cup', 'Color:': ' Purple'}},\n",
       " {'rating': 1.0,\n",
       "  'reviewer_name': 'EJ',\n",
       "  'product_id': 'B00004RFRV',\n",
       "  'review_title': 'Rusted spots everywhere fresh out the box...nasty',\n",
       "  'review_time': '06 4, 2017',\n",
       "  'images': ['https://images-na.ssl-images-amazon.com/images/I/71Dbr6X0bYL._SY88.jpg'],\n",
       "  'styles': {'Size:': ' 9-Cup', 'Color:': ' Silver'}},\n",
       " {'rating': 5.0,\n",
       "  'reviewer_name': 'JohnInNC',\n",
       "  'product_id': 'B00004RFRV',\n",
       "  'review_title': 'To Moka, or not to Moka...',\n",
       "  'review_time': '03 24, 2017',\n",
       "  'images': ['https://images-na.ssl-images-amazon.com/images/I/710e2kQhIZL._SY88.jpg'],\n",
       "  'styles': {'Size:': ' 1-Cup', 'Color:': ' Silver'}},\n",
       " {'rating': 5.0,\n",
       "  'reviewer_name': 'ArmiWyf',\n",
       "  'product_id': 'B00004RFRV',\n",
       "  'review_title': 'LUV IT!!!',\n",
       "  'review_time': '09 2, 2016',\n",
       "  'images': ['https://images-na.ssl-images-amazon.com/images/I/61sbRLnd2UL._SY88.jpg'],\n",
       "  'styles': {'Size:': ' 12-Cup', 'Color:': ' Silver'}},\n",
       " {'rating': 1.0,\n",
       "  'reviewer_name': 'mathman54',\n",
       "  'product_id': 'B00004RFRV',\n",
       "  'review_title': \"The bottom looks like it has rusted and I don't know how to ...\",\n",
       "  'review_time': '02 15, 2016',\n",
       "  'images': ['https://images-na.ssl-images-amazon.com/images/I/71qt4Hnra8L._SY88.jpg',\n",
       "   'https://images-na.ssl-images-amazon.com/images/I/71Wkg8MesdL._SY88.jpg'],\n",
       "  'styles': {'Size:': ' 12-Cup', 'Color:': ' Silver'}},\n",
       " {'rating': 5.0,\n",
       "  'reviewer_name': 'Sierra&#039;s Mom',\n",
       "  'product_id': 'B00004RFRV',\n",
       "  'review_title': 'Allow the auroma of perculated coffee to fill your home......',\n",
       "  'review_time': '12 15, 2015',\n",
       "  'images': ['https://images-na.ssl-images-amazon.com/images/I/61yZTZEoAYL._SY88.jpg',\n",
       "   'https://images-na.ssl-images-amazon.com/images/I/61eF-9jsE0L._SY88.jpg'],\n",
       "  'styles': {'Size:': ' 12-Cup', 'Color:': ' Silver'}},\n",
       " {'rating': 5.0,\n",
       "  'reviewer_name': 'Patrick523',\n",
       "  'product_id': 'B00004RFRV',\n",
       "  'review_title': 'Intoxicating aroma',\n",
       "  'review_time': '11 13, 2015',\n",
       "  'images': ['https://images-na.ssl-images-amazon.com/images/I/718ORINhFvL._SY88.jpg'],\n",
       "  'styles': {'Size:': ' 6-Cup', 'Color:': ' Silver'}},\n",
       " {'rating': 5.0,\n",
       "  'reviewer_name': 'chuckreviews',\n",
       "  'product_id': 'B00004S1CV',\n",
       "  'review_title': 'Works for coffee to !',\n",
       "  'review_time': '10 6, 2013',\n",
       "  'images': ['https://images-na.ssl-images-amazon.com/images/I/41pm7nxY7WL._SY88.jpg'],\n",
       "  'styles': {'Size:': ' A', 'Package Quantity:': ' 1'}},\n",
       " {'rating': 5.0,\n",
       "  'reviewer_name': 'B. Laska',\n",
       "  'product_id': 'B00004RFRV',\n",
       "  'review_title': 'Love my Moka pots!',\n",
       "  'review_time': '07 9, 2015',\n",
       "  'images': ['https://images-na.ssl-images-amazon.com/images/I/719NCqw4GML._SY88.jpg'],\n",
       "  'styles': {'Size:': ' 1-Cup', 'Color:': ' Silver'}},\n",
       " {'rating': 1.0,\n",
       "  'reviewer_name': 'Maria Fernandez',\n",
       "  'product_id': 'B00004RFRV',\n",
       "  'review_title': 'Is it a Bialetti? Came dirty with coffee grounds.',\n",
       "  'review_time': '03 22, 2015',\n",
       "  'images': ['https://images-na.ssl-images-amazon.com/images/I/71aPg3ZuCzL._SY88.jpg',\n",
       "   'https://images-na.ssl-images-amazon.com/images/I/71-2keZacOL._SY88.jpg',\n",
       "   'https://images-na.ssl-images-amazon.com/images/I/71Z4C4G-0dL._SY88.jpg'],\n",
       "  'styles': {'Size:': ' 6-Cup', 'Color:': ' Silver'}},\n",
       " {'rating': 5.0,\n",
       "  'reviewer_name': 'Mike Tarrani',\n",
       "  'product_id': 'B00004RFRV',\n",
       "  'review_title': 'Size sometimes matters',\n",
       "  'review_time': '03 7, 2013',\n",
       "  'images': ['https://images-na.ssl-images-amazon.com/images/I/71aRHnB4ATL._SY88.jpg'],\n",
       "  'styles': {'Size:': ' 12-Cup', 'Color:': ' Silver'}},\n",
       " {'rating': 5.0,\n",
       "  'reviewer_name': 'N. Lazar',\n",
       "  'product_id': 'B00004RFRV',\n",
       "  'review_title': 'My number 1 method for making coffee',\n",
       "  'review_time': '02 7, 2013',\n",
       "  'images': ['https://images-na.ssl-images-amazon.com/images/I/61+77CLdkpL._SY88.jpg'],\n",
       "  'styles': {'Size:': ' 6-Cup', 'Color:': ' Silver'}},\n",
       " {'rating': 5.0,\n",
       "  'reviewer_name': 'Jonathan Sabin',\n",
       "  'product_id': 'B00004RFRV',\n",
       "  'review_title': 'Smooo---ooo----oooo--th!!',\n",
       "  'review_time': '10 2, 2007',\n",
       "  'images': ['https://images-na.ssl-images-amazon.com/images/I/51XtijrZHBL._SY88.jpg'],\n",
       "  'styles': {'Size:': ' 6-Cup', 'Color:': ' Silver'}},\n",
       " {'rating': 5.0,\n",
       "  'reviewer_name': 'Alexander Lamakin',\n",
       "  'product_id': 'B00004S8DX',\n",
       "  'review_title': 'This is my good buy.',\n",
       "  'review_time': '11 29, 2016',\n",
       "  'images': ['https://images-na.ssl-images-amazon.com/images/I/7184SwO3X-L._SY88.jpg'],\n",
       "  'styles': {'Size:': ' Regular-used'}},\n",
       " {'rating': 5.0,\n",
       "  'reviewer_name': 'Joseph P. Long',\n",
       "  'product_id': 'B00004SPD9',\n",
       "  'review_title': 'This thing is awesome!',\n",
       "  'review_time': '12 31, 2008',\n",
       "  'images': ['https://images-na.ssl-images-amazon.com/images/I/615ODQakzjL._SY88.jpg'],\n",
       "  'styles': {'Color:': ' Walnut (Hand Coffee Mill)'}},\n",
       " {'rating': 5.0,\n",
       "  'reviewer_name': 'stampmom9 Dawn Gallop',\n",
       "  'product_id': 'B00004SPD9',\n",
       "  'review_title': 'Wonderful coffee grinder!',\n",
       "  'review_time': '03 3, 2016',\n",
       "  'images': ['https://images-na.ssl-images-amazon.com/images/I/71YBeh+J1rL._SY88.jpg'],\n",
       "  'styles': {'Color:': ' Walnut'}},\n",
       " {'rating': 4.0,\n",
       "  'reviewer_name': 'jason wheeler',\n",
       "  'product_id': 'B00004W4UQ',\n",
       "  'review_title': 'As described. Nice.',\n",
       "  'review_time': '07 6, 2016',\n",
       "  'images': ['https://images-na.ssl-images-amazon.com/images/I/71lxd+GJoEL._SY88.jpg'],\n",
       "  'styles': {'Package Quantity:': ' 1'}},\n",
       " {'rating': 1.0,\n",
       "  'reviewer_name': 'Toni Bautista',\n",
       "  'product_id': 'B00005IBX9',\n",
       "  'review_title': 'Great but NOT PERFECT -missing Side water panel',\n",
       "  'review_time': '02 24, 2017',\n",
       "  'images': ['https://images-na.ssl-images-amazon.com/images/I/71X5NEjZG5L._SY88.jpg'],\n",
       "  'styles': {'Color:': ' Brushed Chrome'}},\n",
       " {'rating': 5.0,\n",
       "  'reviewer_name': 'ERO - Edge',\n",
       "  'product_id': 'B00005IBX9',\n",
       "  'review_title': 'Holding up just fine.',\n",
       "  'review_time': '05 8, 2011',\n",
       "  'images': ['https://images-na.ssl-images-amazon.com/images/I/510LMp8tiqL._SY88.jpg'],\n",
       "  'styles': {'Color:': ' Brushed Chrome'}},\n",
       " {'rating': 4.0,\n",
       "  'reviewer_name': 'Jittoku',\n",
       "  'product_id': 'B00005LM0T',\n",
       "  'review_title': 'Wonderful French Press, but not without its problems',\n",
       "  'review_time': '04 5, 2018',\n",
       "  'images': ['https://images-na.ssl-images-amazon.com/images/I/71in+P1+Q7L._SY88.jpg',\n",
       "   'https://images-na.ssl-images-amazon.com/images/I/71AS29KGbPL._SY88.jpg'],\n",
       "  'styles': {'Size:': ' 17 oz.', 'Package Type:': ' Standard Packaging'}},\n",
       " {'rating': 5.0,\n",
       "  'reviewer_name': 'Nancy Howe',\n",
       "  'product_id': 'B00005LM0V',\n",
       "  'review_title': 'Wonderful for Special Occasions or Coffee Emergencies!',\n",
       "  'review_time': '05 13, 2015',\n",
       "  'images': ['https://images-na.ssl-images-amazon.com/images/I/61H3kUofLbL._SY88.jpg'],\n",
       "  'styles': {'Size:': ' 34 oz.', 'Color:': ' Gold'}},\n",
       " {'rating': 1.0,\n",
       "  'reviewer_name': 'SAinVA',\n",
       "  'product_id': 'B00005LM0T',\n",
       "  'review_title': 'Too much waste',\n",
       "  'review_time': '09 7, 2017',\n",
       "  'images': ['https://images-na.ssl-images-amazon.com/images/I/71shZggLRHL._SY88.jpg'],\n",
       "  'styles': {'Size:': ' 34 oz.', 'Package Type:': ' Standard Packaging'}},\n",
       " {'rating': 4.0,\n",
       "  'reviewer_name': 'Honest Rating',\n",
       "  'product_id': 'B00005LM0V',\n",
       "  'review_title': 'absolutely gorgeous!',\n",
       "  'review_time': '04 3, 2012',\n",
       "  'images': ['https://images-na.ssl-images-amazon.com/images/I/716bNNBjFSL._SY88.png'],\n",
       "  'styles': {'Size:': ' 34 oz.', 'Color:': ' Gold'}},\n",
       " {'rating': 4.0,\n",
       "  'reviewer_name': 'Taylor Shmaylor',\n",
       "  'product_id': 'B00005LM0T',\n",
       "  'review_title': 'Nice and large, but a pain to press',\n",
       "  'review_time': '12 21, 2016',\n",
       "  'images': ['https://images-na.ssl-images-amazon.com/images/I/71H40hLOIZL._SY88.jpg',\n",
       "   'https://images-na.ssl-images-amazon.com/images/I/817jof9F7vL._SY88.jpg'],\n",
       "  'styles': {'Size:': ' 51 oz.', 'Package Type:': ' Standard Packaging'}},\n",
       " {'rating': 1.0,\n",
       "  'reviewer_name': 'Silicon Valley',\n",
       "  'product_id': 'B00005LM0T',\n",
       "  'review_title': 'FRAME RUSTS WITHIN A FEW WEEKS',\n",
       "  'review_time': '03 10, 2016',\n",
       "  'images': ['https://images-na.ssl-images-amazon.com/images/I/71FREAeBLIL._SY88.jpg',\n",
       "   'https://images-na.ssl-images-amazon.com/images/I/71qkhDjseuL._SY88.jpg',\n",
       "   'https://images-na.ssl-images-amazon.com/images/I/7143mVMMoCL._SY88.jpg'],\n",
       "  'styles': {'Size:': ' 34 oz.', 'Package Type:': ' Standard Packaging'}},\n",
       " {'rating': 5.0,\n",
       "  'reviewer_name': 'AA',\n",
       "  'product_id': 'B00005LM0T',\n",
       "  'review_title': 'A great way to get rich tasting coffee.',\n",
       "  'review_time': '12 7, 2015',\n",
       "  'images': ['https://images-na.ssl-images-amazon.com/images/I/51IabPZ-+2L._SY88.jpg'],\n",
       "  'styles': {'Size:': ' 51 oz.', 'Package Type:': ' Standard Packaging'}},\n",
       " {'rating': 5.0,\n",
       "  'reviewer_name': 'Nicholas Driscoll',\n",
       "  'product_id': 'B00005LM0T',\n",
       "  'review_title': 'It makes a great cup of joe and looks as if it will ...',\n",
       "  'review_time': '11 11, 2015',\n",
       "  'images': ['https://images-na.ssl-images-amazon.com/images/I/71jfdlOLIxL._SY88.jpg'],\n",
       "  'styles': {'Size:': ' 12 oz.', 'Package Type:': ' Standard Packaging'}},\n",
       " {'rating': 5.0,\n",
       "  'reviewer_name': 'Jan',\n",
       "  'product_id': 'B00005MF9C',\n",
       "  'review_title': \"... yet but bought what I think will be a better mug because it's stainless inside & out unlike the ...\",\n",
       "  'review_time': '07 13, 2017',\n",
       "  'images': ['https://images-na.ssl-images-amazon.com/images/I/61+FIYkLBIL._SY88.jpg'],\n",
       "  'styles': {'Color:': ' Black/Stainless Steel'}},\n",
       " {'rating': 1.0,\n",
       "  'reviewer_name': 'Andrew Furlong',\n",
       "  'product_id': 'B00005MF9C',\n",
       "  'review_title': 'but instead ran along the underside of the part of the maker that holds the grounds and finally dropping at an angle at which a',\n",
       "  'review_time': '02 22, 2017',\n",
       "  'images': ['https://images-na.ssl-images-amazon.com/images/I/71kh1XatynL._SY88.jpg'],\n",
       "  'styles': {'Color:': ' Black/Stainless Steel'}},\n",
       " {'rating': 5.0,\n",
       "  'reviewer_name': 'catherine',\n",
       "  'product_id': 'B00005MF9C',\n",
       "  'review_title': '1800 Cups and Still Going Strong!',\n",
       "  'review_time': '10 8, 2016',\n",
       "  'images': ['https://images-na.ssl-images-amazon.com/images/I/71UQk1cCY+L._SY88.jpg'],\n",
       "  'styles': {'Color:': ' Black/Stainless Steel'}},\n",
       " {'rating': 2.0,\n",
       "  'reviewer_name': 'fred o.',\n",
       "  'product_id': 'B00005MF9C',\n",
       "  'review_title': 'Good purchase',\n",
       "  'review_time': '09 4, 2016',\n",
       "  'images': ['https://images-na.ssl-images-amazon.com/images/I/71tRehtvN+L._SY88.jpg',\n",
       "   'https://images-na.ssl-images-amazon.com/images/I/719K20U+MaL._SY88.jpg',\n",
       "   'https://images-na.ssl-images-amazon.com/images/I/71jd6yc1GdL._SY88.jpg'],\n",
       "  'styles': {'Color:': ' Black/White'}},\n",
       " {'rating': 1.0,\n",
       "  'reviewer_name': 'fifrox',\n",
       "  'product_id': 'B00005MF9C',\n",
       "  'review_title': 'Works great for a week then fails!',\n",
       "  'review_time': '03 10, 2016',\n",
       "  'images': ['https://images-na.ssl-images-amazon.com/images/I/81QVkUT4hdL._SY88.jpg'],\n",
       "  'styles': {'Color:': ' Black/Stainless Steel'}},\n",
       " {'rating': 4.0,\n",
       "  'reviewer_name': 'KV Trout',\n",
       "  'product_id': 'B00005MF9C',\n",
       "  'review_title': 'This is a really good coffee maker although poorly designed',\n",
       "  'review_time': '01 15, 2013',\n",
       "  'images': ['https://images-na.ssl-images-amazon.com/images/I/51-1nHWM3FL._SY88.jpg'],\n",
       "  'styles': {'Color:': ' Black/Stainless Steel'}},\n",
       " {'rating': 4.0,\n",
       "  'reviewer_name': 'Sinister',\n",
       "  'product_id': 'B00005NCX5',\n",
       "  'review_title': 'So far, so good!',\n",
       "  'review_time': '09 9, 2017',\n",
       "  'images': ['https://images-na.ssl-images-amazon.com/images/I/71i48+HIQYL._SY88.jpg'],\n",
       "  'styles': {'Style Name:': ' Coffee Maker'}},\n",
       " {'rating': 5.0,\n",
       "  'reviewer_name': 'Dale E. Hammerschmidt',\n",
       "  'product_id': 'B00005NCWY',\n",
       "  'review_title': 'A terrific pan for baking Gugelhupf',\n",
       "  'review_time': '03 13, 2017',\n",
       "  'images': ['https://images-na.ssl-images-amazon.com/images/I/81xWjiIDOpL._SY88.jpg'],\n",
       "  'styles': {'Style Name:': ' Bavarian'}},\n",
       " {'rating': 1.0,\n",
       "  'reviewer_name': 'cas',\n",
       "  'product_id': 'B00005NCWQ',\n",
       "  'review_title': 'Garbage!!!',\n",
       "  'review_time': '03 26, 2018',\n",
       "  'images': ['https://images-na.ssl-images-amazon.com/images/I/71Bxydi3DQL._SY88.jpg'],\n",
       "  'styles': {'Size:': ' 8-Cup'}},\n",
       " {'rating': 3.0,\n",
       "  'reviewer_name': 'Travis F.',\n",
       "  'product_id': 'B00005NCWQ',\n",
       "  'review_title': 'Does not work with Induction',\n",
       "  'review_time': '03 10, 2018',\n",
       "  'images': ['https://images-na.ssl-images-amazon.com/images/I/71Oqvd7OPdL._SY88.jpg',\n",
       "   'https://images-na.ssl-images-amazon.com/images/I/71imtEXj8pL._SY88.jpg'],\n",
       "  'styles': {'Size:': ' 8-Cup'}},\n",
       " {'rating': 5.0,\n",
       "  'reviewer_name': 'Amazon Customer',\n",
       "  'product_id': 'B00005NCWQ',\n",
       "  'review_title': 'Clean look.',\n",
       "  'review_time': '07 23, 2017',\n",
       "  'images': ['https://images-na.ssl-images-amazon.com/images/I/719iwV+++SL._SY88.jpg',\n",
       "   'https://images-na.ssl-images-amazon.com/images/I/710uNQXmpyL._SY88.jpg'],\n",
       "  'styles': {'Size:': ' 8-Cup'}},\n",
       " {'rating': 5.0,\n",
       "  'reviewer_name': 'Jean-Claude Van Darn',\n",
       "  'product_id': 'B00005NCWQ',\n",
       "  'review_title': 'Well made with a charming nostalgic design.',\n",
       "  'review_time': '05 22, 2017',\n",
       "  'images': ['https://images-na.ssl-images-amazon.com/images/I/613Dj78CiqL._SY88.jpg'],\n",
       "  'styles': {'Size:': ' 8-Cup'}},\n",
       " {'rating': 4.0,\n",
       "  'reviewer_name': 'Chief',\n",
       "  'product_id': 'B00005NCWQ',\n",
       "  'review_title': 'Farberware Yosemite Percolator',\n",
       "  'review_time': '04 29, 2017',\n",
       "  'images': ['https://images-na.ssl-images-amazon.com/images/I/615l-Cs9elL._SY88.jpg'],\n",
       "  'styles': {'Size:': ' 8-Cup'}},\n",
       " {'rating': 5.0,\n",
       "  'reviewer_name': 'dvrmasik',\n",
       "  'product_id': 'B00005NCWQ',\n",
       "  'review_title': 'rich and aromatic coffee',\n",
       "  'review_time': '05 5, 2016',\n",
       "  'images': ['https://images-na.ssl-images-amazon.com/images/I/81fgcTsXRwL._SY88.jpg',\n",
       "   'https://images-na.ssl-images-amazon.com/images/I/81bsfG7k7kL._SY88.jpg'],\n",
       "  'styles': {'Size:': ' 8-Cup'}},\n",
       " {'rating': 5.0,\n",
       "  'reviewer_name': 'Tommygun',\n",
       "  'product_id': 'B00005NCWQ',\n",
       "  'review_title': 'Makes terrific coffee!',\n",
       "  'review_time': '05 5, 2015',\n",
       "  'images': ['https://images-na.ssl-images-amazon.com/images/I/81IiiimYqNL._SY88.jpg'],\n",
       "  'styles': {'Size:': ' 8-Cup'}},\n",
       " {'rating': 5.0,\n",
       "  'reviewer_name': 'Marilyn',\n",
       "  'product_id': 'B00005NCWQ',\n",
       "  'review_title': 'Best coffee...Love it!',\n",
       "  'review_time': '04 27, 2015',\n",
       "  'images': ['https://images-na.ssl-images-amazon.com/images/I/71imaNbUlvL._SY88.jpg'],\n",
       "  'styles': {'Size:': ' 8-Cup'}},\n",
       " {'rating': 5.0,\n",
       "  'reviewer_name': 'Howright',\n",
       "  'product_id': 'B00005NCWQ',\n",
       "  'review_title': \"Best purchase I've made in a long time!\",\n",
       "  'review_time': '09 7, 2012',\n",
       "  'images': ['https://images-na.ssl-images-amazon.com/images/I/417LVTzsk3L._SY88.jpg',\n",
       "   'https://images-na.ssl-images-amazon.com/images/I/61LX5gTz0WL._SY88.jpg',\n",
       "   'https://images-na.ssl-images-amazon.com/images/I/51xXobRMjKL._SY88.jpg',\n",
       "   'https://images-na.ssl-images-amazon.com/images/I/71rJSPhJiQL._SY88.jpg'],\n",
       "  'styles': {'Size:': ' 8-Cup'}},\n",
       " {'rating': 3.0,\n",
       "  'reviewer_name': 'Peter DP',\n",
       "  'product_id': 'B00005OTXM',\n",
       "  'review_title': \"Mr. Coffee DWX23 12-cup doesn't have the quality feel as my 13 year old nearly identical 12-cup Mr. Coffee\",\n",
       "  'review_time': '04 17, 2015',\n",
       "  'images': ['https://images-na.ssl-images-amazon.com/images/I/71sFKwTW9sL._SY88.jpg'],\n",
       "  'styles': {'Style Name:': ' COFFEE MAKER ONLY'}},\n",
       " {'rating': 1.0,\n",
       "  'reviewer_name': 'GoClick',\n",
       "  'product_id': 'B00005OTXM',\n",
       "  'review_title': 'Returned - produced revolting burnt plastic flavored coffee, and seemed flawed.',\n",
       "  'review_time': '04 16, 2015',\n",
       "  'images': ['https://images-na.ssl-images-amazon.com/images/I/71o+7Zru+iL._SY88.jpg',\n",
       "   'https://images-na.ssl-images-amazon.com/images/I/81sbfP4tc8L._SY88.jpg',\n",
       "   'https://images-na.ssl-images-amazon.com/images/I/71vhOebyGaL._SY88.jpg'],\n",
       "  'styles': {'Style Name:': ' COFFEE MAKER ONLY'}},\n",
       " {'rating': 5.0,\n",
       "  'reviewer_name': 'A. Kronberg',\n",
       "  'product_id': 'B00005OTXY',\n",
       "  'review_title': 'this pot did a great job of boiling water in 20 minutes',\n",
       "  'review_time': '09 4, 2017',\n",
       "  'images': ['https://images-na.ssl-images-amazon.com/images/I/71jzwfSoRiL._SY88.jpg'],\n",
       "  'styles': {'Size:': ' One Size', 'Color:': ' Black'}},\n",
       " {'rating': 5.0,\n",
       "  'reviewer_name': 'Wyo Steve',\n",
       "  'product_id': 'B00005RKOF',\n",
       "  'review_title': 'Perfect coffee water measuring cup',\n",
       "  'review_time': '12 23, 2015',\n",
       "  'images': ['https://images-na.ssl-images-amazon.com/images/I/718MLN9OSxL._SY88.jpg'],\n",
       "  'styles': {'Size:': ' 4 Cup'}},\n",
       " {'rating': 5.0,\n",
       "  'reviewer_name': 'Melissa Coy',\n",
       "  'product_id': 'B00005U2DO',\n",
       "  'review_title': 'Best piece of furniture my daughter has!',\n",
       "  'review_time': '03 13, 2017',\n",
       "  'images': ['https://images-na.ssl-images-amazon.com/images/I/71rb1uAvjBL._SY88.jpg',\n",
       "   'https://images-na.ssl-images-amazon.com/images/I/716AxHe-idL._SY88.jpg'],\n",
       "  'styles': {'Size:': ' 1', 'Color:': ' White'}},\n",
       " {'rating': 3.0,\n",
       "  'reviewer_name': 'Donald E. Fulton',\n",
       "  'product_id': 'B00005V3BM',\n",
       "  'review_title': 'Simple, 4 cup coffee maker, looks nice, difficult basket hinge',\n",
       "  'review_time': '08 25, 2012',\n",
       "  'images': ['https://images-na.ssl-images-amazon.com/images/I/51egXCgLkOL._SY88.jpg',\n",
       "   'https://images-na.ssl-images-amazon.com/images/I/51WvgNVi5kL._SY88.jpg'],\n",
       "  'styles': {'Color:': ' Black'}},\n",
       " {'rating': 5.0,\n",
       "  'reviewer_name': 'KMac',\n",
       "  'product_id': 'B00005YY9X',\n",
       "  'review_title': 'If you want to keep it hot, get this one.',\n",
       "  'review_time': '03 25, 2016',\n",
       "  'images': ['https://images-na.ssl-images-amazon.com/images/I/515O4b7qYYL._SY88.jpg',\n",
       "   'https://images-na.ssl-images-amazon.com/images/I/613jmjPEGuL._SY88.jpg',\n",
       "   'https://images-na.ssl-images-amazon.com/images/I/61ML+yO6EPL._SY88.jpg',\n",
       "   'https://images-na.ssl-images-amazon.com/images/I/61uflGldJcL._SY88.jpg'],\n",
       "  'styles': {'Size:': ' 51 oz.'}},\n",
       " {'rating': 3.0,\n",
       "  'reviewer_name': 'agihawaii',\n",
       "  'product_id': 'B00005YY9X',\n",
       "  'review_title': \"It's 4 measuring cups.\",\n",
       "  'review_time': '09 24, 2015',\n",
       "  'images': ['https://images-na.ssl-images-amazon.com/images/I/71v0PQUwVpL._SY88.jpg',\n",
       "   'https://images-na.ssl-images-amazon.com/images/I/71I0U4nTqJL._SY88.jpg',\n",
       "   'https://images-na.ssl-images-amazon.com/images/I/71z3rQySZ0L._SY88.jpg'],\n",
       "  'styles': {'Size:': ' 34 oz.'}},\n",
       " {'rating': 5.0,\n",
       "  'reviewer_name': 'Alice Wakefield',\n",
       "  'product_id': 'B00005YY9X',\n",
       "  'review_title': '12 years of heavy use - lasted longer than ex-husband',\n",
       "  'review_time': '10 6, 2007',\n",
       "  'images': ['https://images-na.ssl-images-amazon.com/images/I/51+LtjCP8HL._SY88.jpg'],\n",
       "  'styles': {'Size:': ' 34 oz.'}},\n",
       " {'rating': 5.0,\n",
       "  'reviewer_name': 'Cherie E.',\n",
       "  'product_id': 'B000063SRL',\n",
       "  'review_title': 'More than just a cutting board!',\n",
       "  'review_time': '08 10, 2016',\n",
       "  'images': ['https://images-na.ssl-images-amazon.com/images/I/61oleNoBZ7L._SY88.jpg',\n",
       "   'https://images-na.ssl-images-amazon.com/images/I/71FumLGotfL._SY88.jpg',\n",
       "   'https://images-na.ssl-images-amazon.com/images/I/71MHMHDel+L._SY88.jpg',\n",
       "   'https://images-na.ssl-images-amazon.com/images/I/61gZsMGlRlL._SY88.jpg',\n",
       "   'https://images-na.ssl-images-amazon.com/images/I/61QVdUMKB2L._SY88.jpg'],\n",
       "  'styles': {'Size:': ' 14 by 17 inches', 'Color:': ' Granite Color'}},\n",
       " {'rating': 5.0,\n",
       "  'reviewer_name': 'A. Sullivan',\n",
       "  'product_id': 'B000063SSI',\n",
       "  'review_title': 'Hand wash only',\n",
       "  'review_time': '06 10, 2015',\n",
       "  'images': ['https://images-na.ssl-images-amazon.com/images/I/71j9qBm514L._SY88.jpg'],\n",
       "  'styles': {'Package Quantity:': ' 1'}},\n",
       " {'rating': 2.0,\n",
       "  'reviewer_name': 'Picks n Pans',\n",
       "  'product_id': 'B00006F2LW',\n",
       "  'review_title': 'Cracked lid out of the box',\n",
       "  'review_time': '02 27, 2008',\n",
       "  'images': ['https://images-na.ssl-images-amazon.com/images/I/317fvUiuNDL._SY88.jpg'],\n",
       "  'styles': {'Color:': ' Black'}},\n",
       " {'rating': 5.0,\n",
       "  'reviewer_name': 'Kindle Customer',\n",
       "  'product_id': 'B00006IFQJ',\n",
       "  'review_title': 'I love this small butter pot',\n",
       "  'review_time': '05 18, 2016',\n",
       "  'images': ['https://images-na.ssl-images-amazon.com/images/I/71vU2ujX1hL._SY88.jpg',\n",
       "   'https://images-na.ssl-images-amazon.com/images/I/71UpfzCjryL._SY88.jpg'],\n",
       "  'styles': {'Size:': ' None', 'Color:': ' Silver'}},\n",
       " {'rating': 5.0,\n",
       "  'reviewer_name': 'Terri S',\n",
       "  'product_id': 'B00006IFQJ',\n",
       "  'review_title': 'Perfect for those people who care about their time in the kitchen',\n",
       "  'review_time': '04 27, 2016',\n",
       "  'images': ['https://images-na.ssl-images-amazon.com/images/I/81dX1CZUbkL._SY88.jpg',\n",
       "   'https://images-na.ssl-images-amazon.com/images/I/813g2O-7M4L._SY88.jpg'],\n",
       "  'styles': {'Size:': ' None', 'Color:': ' Silver'}},\n",
       " {'rating': 5.0,\n",
       "  'reviewer_name': 'Susan C',\n",
       "  'product_id': 'B00006IFQJ',\n",
       "  'review_title': 'I LOVE THIS LITTLE POT!!!',\n",
       "  'review_time': '04 10, 2016',\n",
       "  'images': ['https://images-na.ssl-images-amazon.com/images/I/61ATK5Xz2zL._SY88.jpg'],\n",
       "  'styles': {'Size:': ' None', 'Color:': ' Silver'}},\n",
       " {'rating': 4.0,\n",
       "  'reviewer_name': 'Kort',\n",
       "  'product_id': 'B00006IZY5',\n",
       "  'review_title': 'Good Gift For A Coffee Connoisseur On Your List',\n",
       "  'review_time': '10 5, 2017',\n",
       "  'images': ['https://images-na.ssl-images-amazon.com/images/I/71gkR6uADvL._SY88.jpg',\n",
       "   'https://images-na.ssl-images-amazon.com/images/I/61EFi0ZC8AL._SY88.jpg',\n",
       "   'https://images-na.ssl-images-amazon.com/images/I/71R4QHP3XKL._SY88.jpg'],\n",
       "  'styles': {'Style Name:': ' Travel Mug'}},\n",
       " {'rating': 2.0,\n",
       "  'reviewer_name': 'LMM',\n",
       "  'product_id': 'B00008ELEA',\n",
       "  'review_title': 'smelled like the cord was burning',\n",
       "  'review_time': '06 6, 2016',\n",
       "  'images': ['https://images-na.ssl-images-amazon.com/images/I/51xXENQhIGL._SY88.jpg'],\n",
       "  'styles': {'Size:': ' 4-Cup'}},\n",
       " {'rating': 5.0,\n",
       "  'reviewer_name': 'Samuel D. Self',\n",
       "  'product_id': 'B00009ADDR',\n",
       "  'review_title': 'Very sturdy, very heavy construction, will last a lifetime.',\n",
       "  'review_time': '04 17, 2018',\n",
       "  'images': ['https://images-na.ssl-images-amazon.com/images/I/71C5rEGDqfL._SY88.jpg',\n",
       "   'https://images-na.ssl-images-amazon.com/images/I/71rsteNCgfL._SY88.jpg',\n",
       "   'https://images-na.ssl-images-amazon.com/images/I/71B4oTj4qQL._SY88.jpg'],\n",
       "  'styles': {'Size:': ' 44 Ounce', 'Color:': ' Brushed'}},\n",
       " {'rating': 5.0,\n",
       "  'reviewer_name': 'Rob S.',\n",
       "  'product_id': 'B00009ADDR',\n",
       "  'review_title': 'Blacker than the picture on Amazon looks!',\n",
       "  'review_time': '07 14, 2017',\n",
       "  'images': ['https://images-na.ssl-images-amazon.com/images/I/71CR7TbQfqL._SY88.jpg'],\n",
       "  'styles': {'Size:': ' 23 Ounce', 'Color:': ' Black Metallic'}},\n",
       " {'rating': 4.0,\n",
       "  'reviewer_name': 'Dave Lakhani',\n",
       "  'product_id': 'B00009ADDR',\n",
       "  'review_title': 'Beautiful, Well Designed Press But Really Only Big Enough For About Two Regular Cups Of Coffee',\n",
       "  'review_time': '11 9, 2016',\n",
       "  'images': ['https://images-na.ssl-images-amazon.com/images/I/61Am8Yh09VL._SY88.jpg'],\n",
       "  'styles': {'Size:': ' 17 Ounce', 'Color:': ' Polished'}},\n",
       " {'rating': 5.0,\n",
       "  'reviewer_name': 'J. Sullivan',\n",
       "  'product_id': 'B00009ADDR',\n",
       "  'review_title': 'Impressive Filtration and Exceptionally High Quality',\n",
       "  'review_time': '11 4, 2016',\n",
       "  'images': ['https://images-na.ssl-images-amazon.com/images/I/41ESEiuFMHL._SY88.jpg'],\n",
       "  'styles': {'Size:': ' 17 Ounce', 'Color:': ' Polished'}},\n",
       " {'rating': 5.0,\n",
       "  'reviewer_name': 'Michael Z (QA Engineer)',\n",
       "  'product_id': 'B00009ADDR',\n",
       "  'review_title': 'One great French Press coffee maker',\n",
       "  'review_time': '07 9, 2016',\n",
       "  'images': ['https://images-na.ssl-images-amazon.com/images/I/71PPtdi9tKL._SY88.jpg',\n",
       "   'https://images-na.ssl-images-amazon.com/images/I/71bj92rH3qL._SY88.jpg'],\n",
       "  'styles': {'Size:': ' 23-Ounce', 'Color:': ' Brushed'}},\n",
       " {'rating': 5.0,\n",
       "  'reviewer_name': 'DDPartington',\n",
       "  'product_id': 'B00009ADDR',\n",
       "  'review_title': 'Exceptional Brewer for those wanting a Minimilistic approach for Great Coffee!',\n",
       "  'review_time': '12 29, 2015',\n",
       "  'images': ['https://images-na.ssl-images-amazon.com/images/I/71aup0OQx0L._SY88.jpg'],\n",
       "  'styles': {'Size:': ' 36 Ounce', 'Color:': ' Polished'}},\n",
       " {'rating': 4.0,\n",
       "  'reviewer_name': 'Nadia M',\n",
       "  'product_id': 'B00009ADDR',\n",
       "  'review_title': \"Excellent Quality Press but it's not TWO CUPS!!!\",\n",
       "  'review_time': '10 14, 2013',\n",
       "  'images': ['https://images-na.ssl-images-amazon.com/images/I/61yzqQx-8ML._SY88.jpg'],\n",
       "  'styles': {'Size:': ' 17-Ounce', 'Color:': ' Polished'}},\n",
       " {'rating': 5.0,\n",
       "  'reviewer_name': 'Thicket',\n",
       "  'product_id': 'B00009ADDR',\n",
       "  'review_title': 'This press is stout!',\n",
       "  'review_time': '12 4, 2007',\n",
       "  'images': ['https://images-na.ssl-images-amazon.com/images/I/41xt8zREjbL._SY88.jpg'],\n",
       "  'styles': {'Size:': ' 36-Ounce', 'Color:': ' Polished'}},\n",
       " {'rating': 5.0,\n",
       "  'reviewer_name': 'barkingburro',\n",
       "  'product_id': 'B00009OWEV',\n",
       "  'review_title': 'One of the best ways to brew coffee',\n",
       "  'review_time': '12 28, 2009',\n",
       "  'images': ['https://images-na.ssl-images-amazon.com/images/I/41+Tpr2PULL._SY88.jpg',\n",
       "   'https://images-na.ssl-images-amazon.com/images/I/61tcKszhiFL._SY88.jpg'],\n",
       "  'styles': {'Size:': ' 1-Liter', 'Color:': ' Black'}},\n",
       " {'rating': 5.0,\n",
       "  'reviewer_name': 'FarmD',\n",
       "  'product_id': 'B00009RXMQ',\n",
       "  'review_title': 'Fairly simple to use and cheaper than going to starbucks',\n",
       "  'review_time': '07 19, 2013',\n",
       "  'images': ['https://images-na.ssl-images-amazon.com/images/I/61zqVv0geSL._SY88.png',\n",
       "   'https://images-na.ssl-images-amazon.com/images/I/81KT-A-ybUL._SY88.png',\n",
       "   'https://images-na.ssl-images-amazon.com/images/I/81WPg4z-zPL._SY88.png',\n",
       "   'https://images-na.ssl-images-amazon.com/images/I/51-1v4azTTL._SY88.jpg',\n",
       "   'https://images-na.ssl-images-amazon.com/images/I/51zLmSR8sdL._SY88.jpg'],\n",
       "  'styles': {'Color:': ' Black'}},\n",
       " {'rating': 5.0,\n",
       "  'reviewer_name': 'John',\n",
       "  'product_id': 'B00009V4FI',\n",
       "  'review_title': 'Does the trick and is very attractive',\n",
       "  'review_time': '11 23, 2012',\n",
       "  'images': ['https://images-na.ssl-images-amazon.com/images/I/61z9nGr0irL._SY88.jpg'],\n",
       "  'styles': {'Size:': ' 16 Ounce', 'Package Quantity:': ' 1'}},\n",
       " {'rating': 5.0,\n",
       "  'reviewer_name': 'Carly R.',\n",
       "  'product_id': 'B00009V4FI',\n",
       "  'review_title': 'Does the Job',\n",
       "  'review_time': '08 27, 2012',\n",
       "  'images': ['https://images-na.ssl-images-amazon.com/images/I/517Z35F4+lL._SY88.jpg',\n",
       "   'https://images-na.ssl-images-amazon.com/images/I/51kLrPCyqrL._SY88.jpg'],\n",
       "  'styles': {'Size:': ' 32 Ounce', 'Package Quantity:': ' 1'}},\n",
       " {'rating': 5.0,\n",
       "  'reviewer_name': 'Bill',\n",
       "  'product_id': 'B0000A1ZMS',\n",
       "  'review_title': \"Nothin' Wrong This!\",\n",
       "  'review_time': '03 26, 2017',\n",
       "  'images': ['https://images-na.ssl-images-amazon.com/images/I/71SeAR4TQpL._SY88.jpg',\n",
       "   'https://images-na.ssl-images-amazon.com/images/I/713OdFQilbL._SY88.jpg'],\n",
       "  'styles': {'Color:': ' Black', 'Style Name:': ' Coffeemaker'}},\n",
       " {'rating': 1.0,\n",
       "  'reviewer_name': 'Marcia S.',\n",
       "  'product_id': 'B0000A1ZMS',\n",
       "  'review_title': 'Look what happened to this once great Cuisinart coffeemaker.',\n",
       "  'review_time': '11 12, 2016',\n",
       "  'images': ['https://images-na.ssl-images-amazon.com/images/I/51B8eue4nHL._SY88.jpg',\n",
       "   'https://images-na.ssl-images-amazon.com/images/I/519NziREFIL._SY88.jpg',\n",
       "   'https://images-na.ssl-images-amazon.com/images/I/51v+A1zWqTL._SY88.jpg'],\n",
       "  'styles': {'Color:': ' Black', 'Style Name:': ' Coffeemaker'}},\n",
       " {'rating': 4.0,\n",
       "  'reviewer_name': 'Mr. Walker',\n",
       "  'product_id': 'B0000A1ZMS',\n",
       "  'review_title': 'Good flavor, strength, and temp.; can get HOT',\n",
       "  'review_time': '03 5, 2014',\n",
       "  'images': ['https://images-na.ssl-images-amazon.com/images/I/51xMBNHSSoL._SY88.jpg',\n",
       "   'https://images-na.ssl-images-amazon.com/images/I/41GZeQPMW0L._SY88.jpg',\n",
       "   'https://images-na.ssl-images-amazon.com/images/I/41LurFC9+PL._SY88.jpg',\n",
       "   'https://images-na.ssl-images-amazon.com/images/I/51PxqDbouML._SY88.jpg'],\n",
       "  'styles': {'Color:': ' Black', 'Style Name:': ' Coffeemaker'}},\n",
       " {'rating': 5.0,\n",
       "  'reviewer_name': 'mamacarla',\n",
       "  'product_id': 'B0000A1ZMS',\n",
       "  'review_title': 'Cute, functional',\n",
       "  'review_time': '01 3, 2014',\n",
       "  'images': ['https://images-na.ssl-images-amazon.com/images/I/71hUhHKHgQL._SY88.jpg'],\n",
       "  'styles': {'Color:': ' Pink', 'Style Name:': ' Coffeemaker'}},\n",
       " {'rating': 2.0,\n",
       "  'reviewer_name': 'Jimmie',\n",
       "  'product_id': 'B0000A1ZMS',\n",
       "  'review_title': 'Leaks and more',\n",
       "  'review_time': '01 13, 2011',\n",
       "  'images': ['https://images-na.ssl-images-amazon.com/images/I/51U4K+PzETL._SY88.jpg'],\n",
       "  'styles': {'Color:': ' Black', 'Style Name:': ' Coffeemaker'}},\n",
       " {'rating': 5.0,\n",
       "  'reviewer_name': 'Noah Boddy',\n",
       "  'product_id': 'B0000AN4CO',\n",
       "  'review_title': 'Keeps the air out of there!',\n",
       "  'review_time': '09 7, 2016',\n",
       "  'images': ['https://images-na.ssl-images-amazon.com/images/I/71gmvQNa1tL._SY88.jpg',\n",
       "   'https://images-na.ssl-images-amazon.com/images/I/71RSpp+yRNL._SY88.jpg',\n",
       "   'https://images-na.ssl-images-amazon.com/images/I/71i-w1td8pL._SY88.jpg'],\n",
       "  'styles': {'Size:': ' 6.1 x 6.1 x 10.1\"'}},\n",
       " {'rating': 5.0,\n",
       "  'reviewer_name': 'Julie Freeman',\n",
       "  'product_id': 'B0000CCQKV',\n",
       "  'review_title': 'Awesome product...great price!',\n",
       "  'review_time': '08 17, 2016',\n",
       "  'images': ['https://images-na.ssl-images-amazon.com/images/I/613WVFu8KDL._SY88.jpg'],\n",
       "  'styles': {'Size:': ' 2 Bundlers'}},\n",
       " {'rating': 4.0,\n",
       "  'reviewer_name': 'Homer',\n",
       "  'product_id': 'B0000CFFS6',\n",
       "  'review_title': 'Works great once you figure out how to take it off',\n",
       "  'review_time': '01 2, 2016',\n",
       "  'images': ['https://images-na.ssl-images-amazon.com/images/I/71l3LH-AH4L._SY88.jpg'],\n",
       "  'styles': {'Style Name:': ' Regular Mouth'}},\n",
       " {'rating': 5.0,\n",
       "  'reviewer_name': 'Crystal',\n",
       "  'product_id': 'B0000CFLCT',\n",
       "  'review_title': 'Exactly what I needed',\n",
       "  'review_time': '04 23, 2018',\n",
       "  'images': ['https://images-na.ssl-images-amazon.com/images/I/61ennMa+zML._SY88.jpg'],\n",
       "  'styles': {'Size:': ' Pack of 1',\n",
       "   'Style:': ' 6 Cup Cone with Glass Carafe'}},\n",
       " {'rating': 5.0,\n",
       "  'reviewer_name': 'D. Currie',\n",
       "  'product_id': 'B0000CFLCT',\n",
       "  'review_title': 'I absolutely love this!  Makes delicious coffee even if the power goes out.',\n",
       "  'review_time': '09 20, 2017',\n",
       "  'images': ['https://images-na.ssl-images-amazon.com/images/I/81pvv9VQw3L._SY88.jpg'],\n",
       "  'styles': {'Size:': ' Pack of 1',\n",
       "   'Style:': ' 6 Cup Cone with Glass Carafe'}}]"
      ]
     },
     "execution_count": 2,
     "metadata": {},
     "output_type": "execute_result"
    }
   ],
   "source": [
    "reviews"
   ]
  },
  {
   "cell_type": "markdown",
   "metadata": {},
   "source": [
    "Previously, we found the length of the collection, and looked into the data types of each record's keys and values"
   ]
  },
  {
   "cell_type": "code",
   "execution_count": 3,
   "metadata": {},
   "outputs": [
    {
     "name": "stdout",
     "output_type": "stream",
     "text": [
      "The coffee product review dataset contains 86 reviews\n"
     ]
    },
    {
     "data": {
      "text/plain": [
       "{'rating': 5.0,\n",
       " 'reviewer_name': 'Sns073194',\n",
       " 'product_id': 'B00004RFRV',\n",
       " 'review_title': 'Perfect cafsito every time',\n",
       " 'review_time': '03 11, 2018',\n",
       " 'images': ['https://images-na.ssl-images-amazon.com/images/I/71d2cQEgJsL._SY88.jpg'],\n",
       " 'styles': {'Size:': ' 6-Cup', 'Color:': ' Silver'}}"
      ]
     },
     "execution_count": 3,
     "metadata": {},
     "output_type": "execute_result"
    }
   ],
   "source": [
    "# Run this cell without changes\n",
    "num_reviews = len(reviews)\n",
    "print(\"The coffee product review dataset contains {} reviews\".format(num_reviews))\n",
    "\n",
    "first_review = reviews[0]\n",
    "first_review"
   ]
  },
  {
   "cell_type": "code",
   "execution_count": 4,
   "metadata": {},
   "outputs": [
    {
     "data": {
      "text/plain": [
       "dict_keys(['rating', 'reviewer_name', 'product_id', 'review_title', 'review_time', 'images', 'styles'])"
      ]
     },
     "execution_count": 4,
     "metadata": {},
     "output_type": "execute_result"
    }
   ],
   "source": [
    "# Run this cell without changes\n",
    "first_review.keys()"
   ]
  },
  {
   "cell_type": "code",
   "execution_count": 5,
   "metadata": {},
   "outputs": [
    {
     "data": {
      "text/plain": [
       "dict_values([5.0, 'Sns073194', 'B00004RFRV', 'Perfect cafsito every time', '03 11, 2018', ['https://images-na.ssl-images-amazon.com/images/I/71d2cQEgJsL._SY88.jpg'], {'Size:': ' 6-Cup', 'Color:': ' Silver'}])"
      ]
     },
     "execution_count": 5,
     "metadata": {},
     "output_type": "execute_result"
    }
   ],
   "source": [
    "# Run this cell without changes\n",
    "first_review.values()"
   ]
  },
  {
   "cell_type": "markdown",
   "metadata": {},
   "source": [
    "This time, let's do something a bit more sophisticated. Specifically:\n",
    "\n",
    "1. Count of positive, negative, and neutral reviews\n",
    "2. List of years contained in the dataset\n",
    "\n",
    "### Count of Positive, Negative, and Neutral Reviews\n",
    "\n",
    "Previously, we wrote something like this code to determine whether a specific review was positive, negative, or neutral:"
   ]
  },
  {
   "cell_type": "code",
   "execution_count": 6,
   "metadata": {},
   "outputs": [
    {
     "name": "stdout",
     "output_type": "stream",
     "text": [
      "This is a positive review\n"
     ]
    }
   ],
   "source": [
    "# Run this cell without changes\n",
    "selected_review = reviews[2]\n",
    "selected_rating = selected_review[\"rating\"]\n",
    "\n",
    "if selected_rating >= 4:\n",
    "    print(\"This is a positive review\")\n",
    "elif selected_rating <= 2:\n",
    "    print(\"This is a negative review\")\n",
    "else:\n",
    "    print(\"This is a neutral review\")"
   ]
  },
  {
   "cell_type": "markdown",
   "metadata": {},
   "source": [
    "Now, rewrite that code as a function `review_sentiment`, which takes in a review dictionary as an argument, and returns the string `\"positive\"`, `\"negative\"`, or `\"neutral\"`"
   ]
  },
  {
   "cell_type": "code",
   "execution_count": 7,
   "metadata": {},
   "outputs": [],
   "source": [
    "def review_sentiment(review):\n",
    "    review_rating = review['rating']\n",
    "    if review_rating >= 4.0:\n",
    "        return \"positive\"\n",
    "    elif review_rating == 3.0:\n",
    "        return \"neutral\"\n",
    "    elif review_rating <= 2.0:\n",
    "        return \"negative\"\n",
    "    # Replace None with appropriate code"
   ]
  },
  {
   "cell_type": "code",
   "execution_count": 8,
   "metadata": {},
   "outputs": [
    {
     "data": {
      "text/plain": [
       "'positive'"
      ]
     },
     "execution_count": 8,
     "metadata": {},
     "output_type": "execute_result"
    }
   ],
   "source": [
    "# Run this cell without changes\n",
    "review_sentiment(reviews[2]) # 'positive'"
   ]
  },
  {
   "cell_type": "code",
   "execution_count": 9,
   "metadata": {},
   "outputs": [
    {
     "data": {
      "text/plain": [
       "'negative'"
      ]
     },
     "execution_count": 9,
     "metadata": {},
     "output_type": "execute_result"
    }
   ],
   "source": [
    "# Run this cell without changes\n",
    "review_sentiment(reviews[4]) # 'negative'"
   ]
  },
  {
   "cell_type": "code",
   "execution_count": 10,
   "metadata": {},
   "outputs": [
    {
     "data": {
      "text/plain": [
       "'neutral'"
      ]
     },
     "execution_count": 10,
     "metadata": {},
     "output_type": "execute_result"
    }
   ],
   "source": [
    "# Run this cell without changes\n",
    "review_sentiment(reviews[47]) # 'neutral'"
   ]
  },
  {
   "cell_type": "markdown",
   "metadata": {},
   "source": [
    "Ok, this is already much cleaner than copying and pasting that `if`/`elif`/`else` sequence like we did before!\n",
    "\n",
    "Now, write a function to loop over all of the reviews in the list, and count how many are positive, negative, and neutral.\n",
    "\n",
    "The function should be called `get_sentiment_counts`, take one argument (the list of reviews), and return a dictionary containing the counts. A counter dictionary has been initialized for you with `\"positive\"`, `\"negative\"`, and `\"neutral\"` as the keys and values starting at 0."
   ]
  },
  {
   "cell_type": "code",
   "execution_count": 11,
   "metadata": {},
   "outputs": [
    {
     "data": {
      "text/plain": [
       "{'positive': 67, 'negative': 15, 'neutral': 4}"
      ]
     },
     "execution_count": 11,
     "metadata": {},
     "output_type": "execute_result"
    }
   ],
   "source": [
    "def get_sentiment_counts(review_list):\n",
    "\n",
    "    sentiment_counts = {\n",
    "        \"positive\": 0,\n",
    "        \"negative\": 0,\n",
    "        \"neutral\": 0\n",
    "    }\n",
    "    for review in review_list:\n",
    "        if review_sentiment(review) == \"positive\":\n",
    "            sentiment_counts[\"positive\"] += 1\n",
    "        elif review_sentiment(review) == \"negative\":\n",
    "            sentiment_counts[\"negative\"] += 1\n",
    "        else:\n",
    "            sentiment_counts[\"neutral\"] += 1         \n",
    "    return sentiment_counts\n",
    "\n",
    "get_sentiment_counts(reviews) # {'positive': 67, 'negative': 15, 'neutral': 4}"
   ]
  },
  {
   "cell_type": "code",
   "execution_count": 12,
   "metadata": {},
   "outputs": [
    {
     "data": {
      "text/plain": [
       "{'positive': 67, 'negative': 15, 'neutral': 4}"
      ]
     },
     "execution_count": 12,
     "metadata": {},
     "output_type": "execute_result"
    }
   ],
   "source": [
    "def get_sentiment_counts(review_list):\n",
    "\n",
    "    sentiment_counts = {\n",
    "        \"positive\": 0,\n",
    "        \"negative\": 0,\n",
    "        \"neutral\": 0\n",
    "    }\n",
    "    for sentiment in review_list:\n",
    "        if review_sentiment(sentiment) == \"positive\":\n",
    "            sentiment_counts[\"positive\"] += 1\n",
    "        elif review_sentiment(sentiment) == \"negative\":\n",
    "            sentiment_counts[\"negative\"] += 1\n",
    "        else:\n",
    "            sentiment_counts[\"neutral\"] += 1 \n",
    "    return sentiment_counts\n",
    "\n",
    "get_sentiment_counts(reviews)"
   ]
  },
  {
   "cell_type": "code",
   "execution_count": 13,
   "metadata": {
    "scrolled": true
   },
   "outputs": [
    {
     "data": {
      "text/plain": [
       "{'positive': 67, 'negative': 15, 'neutral': 4}"
      ]
     },
     "execution_count": 13,
     "metadata": {},
     "output_type": "execute_result"
    }
   ],
   "source": [
    "get_sentiment_counts(reviews)"
   ]
  },
  {
   "cell_type": "markdown",
   "metadata": {},
   "source": [
    "This spread of sentiments seems reasonable. There is a well-known [skew towards positive reviews in general](https://dspace.mit.edu/handle/1721.1/111093), similar to \"grade inflation\", and people with neutral opinions are less likely to write reviews in the first place.\n",
    "\n",
    "### List of Years Contained in the Dataset\n",
    "\n",
    "Previously, we wrote something like this code to extract the year of a review from the review dictionary:"
   ]
  },
  {
   "cell_type": "code",
   "execution_count": 14,
   "metadata": {},
   "outputs": [
    {
     "data": {
      "text/plain": [
       "2017"
      ]
     },
     "execution_count": 14,
     "metadata": {},
     "output_type": "execute_result"
    }
   ],
   "source": [
    "# Run this cell without changes\n",
    "selected_review = reviews[2]\n",
    "selected_review_time = selected_review[\"review_time\"]\n",
    "selected_review_year = int(selected_review_time[-4:])\n",
    "selected_review_year"
   ]
  },
  {
   "cell_type": "markdown",
   "metadata": {},
   "source": [
    "Now, rewrite that code as a function `review_year`, which takes in a review dictionary as an argument, and returns the year as an integer:"
   ]
  },
  {
   "cell_type": "code",
   "execution_count": 15,
   "metadata": {},
   "outputs": [],
   "source": [
    "def review_year(review):\n",
    "    # Replace None with appropriate code\n",
    "    review_time = review[\"review_time\"]\n",
    "    return int(review_time[-4:])"
   ]
  },
  {
   "cell_type": "code",
   "execution_count": 16,
   "metadata": {},
   "outputs": [
    {
     "data": {
      "text/plain": [
       "2017"
      ]
     },
     "execution_count": 16,
     "metadata": {},
     "output_type": "execute_result"
    }
   ],
   "source": [
    "# Run this cell without changes\n",
    "review_year(reviews[2]) # 2017"
   ]
  },
  {
   "cell_type": "code",
   "execution_count": 17,
   "metadata": {},
   "outputs": [
    {
     "data": {
      "text/plain": [
       "2017"
      ]
     },
     "execution_count": 17,
     "metadata": {},
     "output_type": "execute_result"
    }
   ],
   "source": [
    "# Run this cell without changes\n",
    "review_year(reviews[4]) # 2017"
   ]
  },
  {
   "cell_type": "code",
   "execution_count": 18,
   "metadata": {},
   "outputs": [
    {
     "data": {
      "text/plain": [
       "2015"
      ]
     },
     "execution_count": 18,
     "metadata": {},
     "output_type": "execute_result"
    }
   ],
   "source": [
    "# Run this cell without changes\n",
    "review_year(reviews[47]) # 2015"
   ]
  },
  {
   "cell_type": "markdown",
   "metadata": {},
   "source": [
    "Now, write a function called `get_years` to loop over all of the reviews in the review list and create a list of the years you find. Each year should only appear once, in ascending order. The function should accept one argument (`review_list`) and should return a list of integers representing the years.\n",
    "\n",
    "Hints:\n",
    "\n",
    " - Remember that you can use the `set()` function to keep only the unique elements in a list. Just make sure you use `list()` afterwards to convert it back to a list data type. This is not the only solution, however!\n",
    " - There is a list method named `.sort()` ([look it up in the python list documentation here](https://docs.python.org/3/tutorial/datastructures.html#more-on-lists)) that will automatically order the years; you don't need to write sorting logic \"by hand\""
   ]
  },
  {
   "cell_type": "code",
   "execution_count": 19,
   "metadata": {},
   "outputs": [
    {
     "name": "stdout",
     "output_type": "stream",
     "text": [
      "[2007, 2008, 2009, 2011, 2012, 2013, 2014, 2015, 2016, 2017, 2018]\n",
      "<class 'list'>\n"
     ]
    }
   ],
   "source": [
    "# Your code here\n",
    "def get_years(review_list):\n",
    "    years = []\n",
    "    for review in review_list:\n",
    "        years.append(review_year(review))\n",
    "    years = list(set(years))\n",
    "    years.sort()\n",
    "    return years\n",
    "\n",
    "\n",
    "\n",
    "print(get_years(reviews)) # [2007, 2008, 2009, 2011, 2012, 2013, 2014, 2015, 2016, 2017, 2018]\n",
    "print(type(get_years(reviews))) # <class 'list'>"
   ]
  },
  {
   "cell_type": "code",
   "execution_count": 20,
   "metadata": {},
   "outputs": [
    {
     "name": "stdout",
     "output_type": "stream",
     "text": [
      "[2007, 2008, 2009, 2011, 2012, 2013, 2014, 2015, 2016, 2017, 2018]\n"
     ]
    }
   ],
   "source": [
    "print(get_years(reviews))"
   ]
  },
  {
   "cell_type": "markdown",
   "metadata": {},
   "source": [
    "Now we know that we have data spanning 2007-2018, with no data from 2010. In some contexts that absence might be worth investigating — is it a random artifact of our sample, or are we missing 2010 data for a reason that matters? For now we'll just keep moving on to the next section, now that we have a clearer sense of the kinds of reviews in our dataset and the years they were written.\n",
    "\n",
    "## Subset Sampling\n",
    "\n",
    "Once you have an overall sense of a dataset, it's a good idea to ask *what are some examples of records in each category?* For example, what are some examples of a negative review?\n",
    "\n",
    "Although 86 records are few enough that you could technically read through all of them and just mentally note what we see, let's use an approach that will scale better to larger datasets with more categories: **filtering** to a subset of records then **sampling** to achieve a digestible amount of information.\n",
    "\n",
    "### Filtering\n",
    "\n",
    "Here we are going to make use of another built-in Python function: `filter()` ([docs here](https://docs.python.org/3/library/functions.html#filter)). To use this function, we first need to write a helper function that returns `True` or `False` based on the value passed in.\n",
    "\n",
    "So, create a function `is_negative` that takes in a review dictionary as an argument and returns `True` if the review is negative, `False` otherwise:"
   ]
  },
  {
   "cell_type": "code",
   "execution_count": 21,
   "metadata": {
    "scrolled": true
   },
   "outputs": [
    {
     "name": "stdout",
     "output_type": "stream",
     "text": [
      "False\n",
      "True\n",
      "False\n"
     ]
    }
   ],
   "source": [
    "def is_negative(review):\n",
    "    # Replace None with appropriate code\n",
    "    sentiment = review_sentiment(review)\n",
    "    return sentiment == 'negative'\n",
    "    \n",
    "print(is_negative(reviews[2]))  # False (postive review)\n",
    "print(is_negative(reviews[4]))  # True\n",
    "print(is_negative(reviews[47])) # False (neutral review)"
   ]
  },
  {
   "cell_type": "code",
   "execution_count": 22,
   "metadata": {},
   "outputs": [
    {
     "name": "stdout",
     "output_type": "stream",
     "text": [
      "False\n",
      "True\n",
      "False\n"
     ]
    }
   ],
   "source": [
    "def is_negative(review):\n",
    "    # Replace None with appropriate code\n",
    "    if review_sentiment(review) == 'negative':\n",
    "        return True\n",
    "    else:\n",
    "        return False\n",
    "    \n",
    "print(is_negative(reviews[2]))  # False (postive review)\n",
    "print(is_negative(reviews[4]))  # True\n",
    "print(is_negative(reviews[47])) # False (neutral review)"
   ]
  },
  {
   "cell_type": "markdown",
   "metadata": {},
   "source": [
    "Now we can use the `filter()` function to create a list of negative reviews:"
   ]
  },
  {
   "cell_type": "code",
   "execution_count": 23,
   "metadata": {},
   "outputs": [
    {
     "data": {
      "text/plain": [
       "[{'rating': 1.0,\n",
       "  'reviewer_name': 'EJ',\n",
       "  'product_id': 'B00004RFRV',\n",
       "  'review_title': 'Rusted spots everywhere fresh out the box...nasty',\n",
       "  'review_time': '06 4, 2017',\n",
       "  'images': ['https://images-na.ssl-images-amazon.com/images/I/71Dbr6X0bYL._SY88.jpg'],\n",
       "  'styles': {'Size:': ' 9-Cup', 'Color:': ' Silver'}},\n",
       " {'rating': 1.0,\n",
       "  'reviewer_name': 'mathman54',\n",
       "  'product_id': 'B00004RFRV',\n",
       "  'review_title': \"The bottom looks like it has rusted and I don't know how to ...\",\n",
       "  'review_time': '02 15, 2016',\n",
       "  'images': ['https://images-na.ssl-images-amazon.com/images/I/71qt4Hnra8L._SY88.jpg',\n",
       "   'https://images-na.ssl-images-amazon.com/images/I/71Wkg8MesdL._SY88.jpg'],\n",
       "  'styles': {'Size:': ' 12-Cup', 'Color:': ' Silver'}},\n",
       " {'rating': 1.0,\n",
       "  'reviewer_name': 'Maria Fernandez',\n",
       "  'product_id': 'B00004RFRV',\n",
       "  'review_title': 'Is it a Bialetti? Came dirty with coffee grounds.',\n",
       "  'review_time': '03 22, 2015',\n",
       "  'images': ['https://images-na.ssl-images-amazon.com/images/I/71aPg3ZuCzL._SY88.jpg',\n",
       "   'https://images-na.ssl-images-amazon.com/images/I/71-2keZacOL._SY88.jpg',\n",
       "   'https://images-na.ssl-images-amazon.com/images/I/71Z4C4G-0dL._SY88.jpg'],\n",
       "  'styles': {'Size:': ' 6-Cup', 'Color:': ' Silver'}},\n",
       " {'rating': 1.0,\n",
       "  'reviewer_name': 'Toni Bautista',\n",
       "  'product_id': 'B00005IBX9',\n",
       "  'review_title': 'Great but NOT PERFECT -missing Side water panel',\n",
       "  'review_time': '02 24, 2017',\n",
       "  'images': ['https://images-na.ssl-images-amazon.com/images/I/71X5NEjZG5L._SY88.jpg'],\n",
       "  'styles': {'Color:': ' Brushed Chrome'}},\n",
       " {'rating': 1.0,\n",
       "  'reviewer_name': 'SAinVA',\n",
       "  'product_id': 'B00005LM0T',\n",
       "  'review_title': 'Too much waste',\n",
       "  'review_time': '09 7, 2017',\n",
       "  'images': ['https://images-na.ssl-images-amazon.com/images/I/71shZggLRHL._SY88.jpg'],\n",
       "  'styles': {'Size:': ' 34 oz.', 'Package Type:': ' Standard Packaging'}},\n",
       " {'rating': 1.0,\n",
       "  'reviewer_name': 'Silicon Valley',\n",
       "  'product_id': 'B00005LM0T',\n",
       "  'review_title': 'FRAME RUSTS WITHIN A FEW WEEKS',\n",
       "  'review_time': '03 10, 2016',\n",
       "  'images': ['https://images-na.ssl-images-amazon.com/images/I/71FREAeBLIL._SY88.jpg',\n",
       "   'https://images-na.ssl-images-amazon.com/images/I/71qkhDjseuL._SY88.jpg',\n",
       "   'https://images-na.ssl-images-amazon.com/images/I/7143mVMMoCL._SY88.jpg'],\n",
       "  'styles': {'Size:': ' 34 oz.', 'Package Type:': ' Standard Packaging'}},\n",
       " {'rating': 1.0,\n",
       "  'reviewer_name': 'Andrew Furlong',\n",
       "  'product_id': 'B00005MF9C',\n",
       "  'review_title': 'but instead ran along the underside of the part of the maker that holds the grounds and finally dropping at an angle at which a',\n",
       "  'review_time': '02 22, 2017',\n",
       "  'images': ['https://images-na.ssl-images-amazon.com/images/I/71kh1XatynL._SY88.jpg'],\n",
       "  'styles': {'Color:': ' Black/Stainless Steel'}},\n",
       " {'rating': 2.0,\n",
       "  'reviewer_name': 'fred o.',\n",
       "  'product_id': 'B00005MF9C',\n",
       "  'review_title': 'Good purchase',\n",
       "  'review_time': '09 4, 2016',\n",
       "  'images': ['https://images-na.ssl-images-amazon.com/images/I/71tRehtvN+L._SY88.jpg',\n",
       "   'https://images-na.ssl-images-amazon.com/images/I/719K20U+MaL._SY88.jpg',\n",
       "   'https://images-na.ssl-images-amazon.com/images/I/71jd6yc1GdL._SY88.jpg'],\n",
       "  'styles': {'Color:': ' Black/White'}},\n",
       " {'rating': 1.0,\n",
       "  'reviewer_name': 'fifrox',\n",
       "  'product_id': 'B00005MF9C',\n",
       "  'review_title': 'Works great for a week then fails!',\n",
       "  'review_time': '03 10, 2016',\n",
       "  'images': ['https://images-na.ssl-images-amazon.com/images/I/81QVkUT4hdL._SY88.jpg'],\n",
       "  'styles': {'Color:': ' Black/Stainless Steel'}},\n",
       " {'rating': 1.0,\n",
       "  'reviewer_name': 'cas',\n",
       "  'product_id': 'B00005NCWQ',\n",
       "  'review_title': 'Garbage!!!',\n",
       "  'review_time': '03 26, 2018',\n",
       "  'images': ['https://images-na.ssl-images-amazon.com/images/I/71Bxydi3DQL._SY88.jpg'],\n",
       "  'styles': {'Size:': ' 8-Cup'}},\n",
       " {'rating': 1.0,\n",
       "  'reviewer_name': 'GoClick',\n",
       "  'product_id': 'B00005OTXM',\n",
       "  'review_title': 'Returned - produced revolting burnt plastic flavored coffee, and seemed flawed.',\n",
       "  'review_time': '04 16, 2015',\n",
       "  'images': ['https://images-na.ssl-images-amazon.com/images/I/71o+7Zru+iL._SY88.jpg',\n",
       "   'https://images-na.ssl-images-amazon.com/images/I/81sbfP4tc8L._SY88.jpg',\n",
       "   'https://images-na.ssl-images-amazon.com/images/I/71vhOebyGaL._SY88.jpg'],\n",
       "  'styles': {'Style Name:': ' COFFEE MAKER ONLY'}},\n",
       " {'rating': 2.0,\n",
       "  'reviewer_name': 'Picks n Pans',\n",
       "  'product_id': 'B00006F2LW',\n",
       "  'review_title': 'Cracked lid out of the box',\n",
       "  'review_time': '02 27, 2008',\n",
       "  'images': ['https://images-na.ssl-images-amazon.com/images/I/317fvUiuNDL._SY88.jpg'],\n",
       "  'styles': {'Color:': ' Black'}},\n",
       " {'rating': 2.0,\n",
       "  'reviewer_name': 'LMM',\n",
       "  'product_id': 'B00008ELEA',\n",
       "  'review_title': 'smelled like the cord was burning',\n",
       "  'review_time': '06 6, 2016',\n",
       "  'images': ['https://images-na.ssl-images-amazon.com/images/I/51xXENQhIGL._SY88.jpg'],\n",
       "  'styles': {'Size:': ' 4-Cup'}},\n",
       " {'rating': 1.0,\n",
       "  'reviewer_name': 'Marcia S.',\n",
       "  'product_id': 'B0000A1ZMS',\n",
       "  'review_title': 'Look what happened to this once great Cuisinart coffeemaker.',\n",
       "  'review_time': '11 12, 2016',\n",
       "  'images': ['https://images-na.ssl-images-amazon.com/images/I/51B8eue4nHL._SY88.jpg',\n",
       "   'https://images-na.ssl-images-amazon.com/images/I/519NziREFIL._SY88.jpg',\n",
       "   'https://images-na.ssl-images-amazon.com/images/I/51v+A1zWqTL._SY88.jpg'],\n",
       "  'styles': {'Color:': ' Black', 'Style Name:': ' Coffeemaker'}},\n",
       " {'rating': 2.0,\n",
       "  'reviewer_name': 'Jimmie',\n",
       "  'product_id': 'B0000A1ZMS',\n",
       "  'review_title': 'Leaks and more',\n",
       "  'review_time': '01 13, 2011',\n",
       "  'images': ['https://images-na.ssl-images-amazon.com/images/I/51U4K+PzETL._SY88.jpg'],\n",
       "  'styles': {'Color:': ' Black', 'Style Name:': ' Coffeemaker'}}]"
      ]
     },
     "execution_count": 23,
     "metadata": {},
     "output_type": "execute_result"
    }
   ],
   "source": [
    "# Run this cell without changes\n",
    "list(filter(is_negative, reviews))"
   ]
  },
  {
   "cell_type": "markdown",
   "metadata": {},
   "source": [
    "Write a function called `get_negative_reviews` that returns a list of these reviews. It should take the list of all reviews as an argument.\n",
    "\n",
    "(This can be a one-line function.)"
   ]
  },
  {
   "cell_type": "code",
   "execution_count": 24,
   "metadata": {
    "scrolled": true
   },
   "outputs": [
    {
     "data": {
      "text/plain": [
       "15"
      ]
     },
     "execution_count": 24,
     "metadata": {},
     "output_type": "execute_result"
    }
   ],
   "source": [
    "# Your code here\n",
    "def get_negative_reviews(review_list):\n",
    "    return list(filter(is_negative, review_list))\n",
    "len(get_negative_reviews(reviews)) # 15"
   ]
  },
  {
   "cell_type": "markdown",
   "metadata": {},
   "source": [
    "### Sampling\n",
    "\n",
    "Again, since we have a relatively small dataset, we could just look at all 15 reviews. But let's take a more scalable approach instead, and take a random sample of negative reviews.\n",
    "\n",
    "Recall the `random` module, which must be imported:"
   ]
  },
  {
   "cell_type": "code",
   "execution_count": 25,
   "metadata": {},
   "outputs": [],
   "source": [
    "# Run this cell without changes\n",
    "import random"
   ]
  },
  {
   "cell_type": "markdown",
   "metadata": {},
   "source": [
    "We'll use the `random.sample()` function, which takes in a collection and a number, and returns that number of elements from the collection.\n",
    "\n",
    "So, for example, if we want 3 negative reviews:"
   ]
  },
  {
   "cell_type": "code",
   "execution_count": 26,
   "metadata": {},
   "outputs": [
    {
     "data": {
      "text/plain": [
       "[{'rating': 1.0,\n",
       "  'reviewer_name': 'Andrew Furlong',\n",
       "  'product_id': 'B00005MF9C',\n",
       "  'review_title': 'but instead ran along the underside of the part of the maker that holds the grounds and finally dropping at an angle at which a',\n",
       "  'review_time': '02 22, 2017',\n",
       "  'images': ['https://images-na.ssl-images-amazon.com/images/I/71kh1XatynL._SY88.jpg'],\n",
       "  'styles': {'Color:': ' Black/Stainless Steel'}},\n",
       " {'rating': 1.0,\n",
       "  'reviewer_name': 'GoClick',\n",
       "  'product_id': 'B00005OTXM',\n",
       "  'review_title': 'Returned - produced revolting burnt plastic flavored coffee, and seemed flawed.',\n",
       "  'review_time': '04 16, 2015',\n",
       "  'images': ['https://images-na.ssl-images-amazon.com/images/I/71o+7Zru+iL._SY88.jpg',\n",
       "   'https://images-na.ssl-images-amazon.com/images/I/81sbfP4tc8L._SY88.jpg',\n",
       "   'https://images-na.ssl-images-amazon.com/images/I/71vhOebyGaL._SY88.jpg'],\n",
       "  'styles': {'Style Name:': ' COFFEE MAKER ONLY'}},\n",
       " {'rating': 1.0,\n",
       "  'reviewer_name': 'cas',\n",
       "  'product_id': 'B00005NCWQ',\n",
       "  'review_title': 'Garbage!!!',\n",
       "  'review_time': '03 26, 2018',\n",
       "  'images': ['https://images-na.ssl-images-amazon.com/images/I/71Bxydi3DQL._SY88.jpg'],\n",
       "  'styles': {'Size:': ' 8-Cup'}}]"
      ]
     },
     "execution_count": 26,
     "metadata": {},
     "output_type": "execute_result"
    }
   ],
   "source": [
    "# Run this cell without changes\n",
    "# You can run as many times as you want, to see different sample examples\n",
    "random.sample(get_negative_reviews(reviews), 3)"
   ]
  },
  {
   "cell_type": "markdown",
   "metadata": {},
   "source": [
    "Now, put that code into a function `get_negative_review_sample`. This function should take a list of reviews and the number of samples to select, and should return a sample of negative reviews.\n",
    "\n",
    "(You can assume that `num_samples` is a valid number. The number of samples must be less than or equal to the number of elements in the collection.)"
   ]
  },
  {
   "cell_type": "code",
   "execution_count": 27,
   "metadata": {},
   "outputs": [
    {
     "data": {
      "text/plain": [
       "[{'rating': 2.0,\n",
       "  'reviewer_name': 'LMM',\n",
       "  'product_id': 'B00008ELEA',\n",
       "  'review_title': 'smelled like the cord was burning',\n",
       "  'review_time': '06 6, 2016',\n",
       "  'images': ['https://images-na.ssl-images-amazon.com/images/I/51xXENQhIGL._SY88.jpg'],\n",
       "  'styles': {'Size:': ' 4-Cup'}},\n",
       " {'rating': 1.0,\n",
       "  'reviewer_name': 'EJ',\n",
       "  'product_id': 'B00004RFRV',\n",
       "  'review_title': 'Rusted spots everywhere fresh out the box...nasty',\n",
       "  'review_time': '06 4, 2017',\n",
       "  'images': ['https://images-na.ssl-images-amazon.com/images/I/71Dbr6X0bYL._SY88.jpg'],\n",
       "  'styles': {'Size:': ' 9-Cup', 'Color:': ' Silver'}},\n",
       " {'rating': 1.0,\n",
       "  'reviewer_name': 'Silicon Valley',\n",
       "  'product_id': 'B00005LM0T',\n",
       "  'review_title': 'FRAME RUSTS WITHIN A FEW WEEKS',\n",
       "  'review_time': '03 10, 2016',\n",
       "  'images': ['https://images-na.ssl-images-amazon.com/images/I/71FREAeBLIL._SY88.jpg',\n",
       "   'https://images-na.ssl-images-amazon.com/images/I/71qkhDjseuL._SY88.jpg',\n",
       "   'https://images-na.ssl-images-amazon.com/images/I/7143mVMMoCL._SY88.jpg'],\n",
       "  'styles': {'Size:': ' 34 oz.', 'Package Type:': ' Standard Packaging'}},\n",
       " {'rating': 1.0,\n",
       "  'reviewer_name': 'Toni Bautista',\n",
       "  'product_id': 'B00005IBX9',\n",
       "  'review_title': 'Great but NOT PERFECT -missing Side water panel',\n",
       "  'review_time': '02 24, 2017',\n",
       "  'images': ['https://images-na.ssl-images-amazon.com/images/I/71X5NEjZG5L._SY88.jpg'],\n",
       "  'styles': {'Color:': ' Brushed Chrome'}}]"
      ]
     },
     "execution_count": 27,
     "metadata": {},
     "output_type": "execute_result"
    }
   ],
   "source": [
    "def get_negative_review_sample(review_list, num_samples):\n",
    "    # Replace None with appropriate code\n",
    "    return random.sample(get_negative_reviews(review_list), num_samples)\n",
    "    \n",
    "get_negative_review_sample(reviews, 4)"
   ]
  },
  {
   "cell_type": "markdown",
   "metadata": {},
   "source": [
    "Repeat the same process for positive reviews. That means we need:\n",
    "\n",
    "1. A helper function `is_positive` (this can't just be `not is_negative` since neutral reviews are neither)\n",
    "2. A function `get_positive_reviews` which returns a list of all positive reviews\n",
    "3. A function `get_positive_review_sample` which returns a sample of positive reviews with the specified length"
   ]
  },
  {
   "cell_type": "code",
   "execution_count": 28,
   "metadata": {},
   "outputs": [],
   "source": [
    "def is_positive(review):\n",
    "    if review_sentiment(review) == 'positive':\n",
    "        return True\n",
    "    else:\n",
    "        return False"
   ]
  },
  {
   "cell_type": "code",
   "execution_count": 29,
   "metadata": {},
   "outputs": [
    {
     "name": "stdout",
     "output_type": "stream",
     "text": [
      "True\n",
      "False\n",
      "False\n"
     ]
    }
   ],
   "source": [
    "print(is_positive(reviews[2]))  # False (postive review)\n",
    "print(is_positive(reviews[4]))  # True\n",
    "print(is_positive(reviews[47])) # False (neutral review)"
   ]
  },
  {
   "cell_type": "code",
   "execution_count": 30,
   "metadata": {
    "scrolled": true
   },
   "outputs": [
    {
     "data": {
      "text/plain": [
       "[{'rating': 5.0,\n",
       "  'reviewer_name': 'Sns073194',\n",
       "  'product_id': 'B00004RFRV',\n",
       "  'review_title': 'Perfect cafsito every time',\n",
       "  'review_time': '03 11, 2018',\n",
       "  'images': ['https://images-na.ssl-images-amazon.com/images/I/71d2cQEgJsL._SY88.jpg'],\n",
       "  'styles': {'Size:': ' 6-Cup', 'Color:': ' Silver'}},\n",
       " {'rating': 5.0,\n",
       "  'reviewer_name': 'Maverick',\n",
       "  'product_id': 'B00004RFRV',\n",
       "  'review_title': 'Delicious results from a wonderfully simple Bialetti Moka Express!',\n",
       "  'review_time': '12 3, 2017',\n",
       "  'images': ['https://images-na.ssl-images-amazon.com/images/I/61NG30sWdJL._SY88.jpg'],\n",
       "  'styles': {'Size:': ' 1-Cup', 'Color:': ' Silver'}},\n",
       " {'rating': 5.0,\n",
       "  'reviewer_name': 'Karen',\n",
       "  'product_id': 'B00004RFRV',\n",
       "  'review_title': 'Bialetti is the Best!',\n",
       "  'review_time': '11 12, 2017',\n",
       "  'images': ['https://images-na.ssl-images-amazon.com/images/I/81+XxFRGyBL._SY88.jpg'],\n",
       "  'styles': {'Size:': ' 12-Cup', 'Color:': ' Silver'}},\n",
       " {'rating': 5.0,\n",
       "  'reviewer_name': 'Feles (muy Mala)',\n",
       "  'product_id': 'B00004RFRV',\n",
       "  'review_title': 'Awesome portion control for one person!',\n",
       "  'review_time': '08 5, 2017',\n",
       "  'images': ['https://images-na.ssl-images-amazon.com/images/I/71BcwbkGyfL._SY88.jpg'],\n",
       "  'styles': {'Size:': ' 6-Cup', 'Color:': ' Purple'}},\n",
       " {'rating': 5.0,\n",
       "  'reviewer_name': 'JohnInNC',\n",
       "  'product_id': 'B00004RFRV',\n",
       "  'review_title': 'To Moka, or not to Moka...',\n",
       "  'review_time': '03 24, 2017',\n",
       "  'images': ['https://images-na.ssl-images-amazon.com/images/I/710e2kQhIZL._SY88.jpg'],\n",
       "  'styles': {'Size:': ' 1-Cup', 'Color:': ' Silver'}},\n",
       " {'rating': 5.0,\n",
       "  'reviewer_name': 'ArmiWyf',\n",
       "  'product_id': 'B00004RFRV',\n",
       "  'review_title': 'LUV IT!!!',\n",
       "  'review_time': '09 2, 2016',\n",
       "  'images': ['https://images-na.ssl-images-amazon.com/images/I/61sbRLnd2UL._SY88.jpg'],\n",
       "  'styles': {'Size:': ' 12-Cup', 'Color:': ' Silver'}},\n",
       " {'rating': 5.0,\n",
       "  'reviewer_name': 'Sierra&#039;s Mom',\n",
       "  'product_id': 'B00004RFRV',\n",
       "  'review_title': 'Allow the auroma of perculated coffee to fill your home......',\n",
       "  'review_time': '12 15, 2015',\n",
       "  'images': ['https://images-na.ssl-images-amazon.com/images/I/61yZTZEoAYL._SY88.jpg',\n",
       "   'https://images-na.ssl-images-amazon.com/images/I/61eF-9jsE0L._SY88.jpg'],\n",
       "  'styles': {'Size:': ' 12-Cup', 'Color:': ' Silver'}},\n",
       " {'rating': 5.0,\n",
       "  'reviewer_name': 'Patrick523',\n",
       "  'product_id': 'B00004RFRV',\n",
       "  'review_title': 'Intoxicating aroma',\n",
       "  'review_time': '11 13, 2015',\n",
       "  'images': ['https://images-na.ssl-images-amazon.com/images/I/718ORINhFvL._SY88.jpg'],\n",
       "  'styles': {'Size:': ' 6-Cup', 'Color:': ' Silver'}},\n",
       " {'rating': 5.0,\n",
       "  'reviewer_name': 'chuckreviews',\n",
       "  'product_id': 'B00004S1CV',\n",
       "  'review_title': 'Works for coffee to !',\n",
       "  'review_time': '10 6, 2013',\n",
       "  'images': ['https://images-na.ssl-images-amazon.com/images/I/41pm7nxY7WL._SY88.jpg'],\n",
       "  'styles': {'Size:': ' A', 'Package Quantity:': ' 1'}},\n",
       " {'rating': 5.0,\n",
       "  'reviewer_name': 'B. Laska',\n",
       "  'product_id': 'B00004RFRV',\n",
       "  'review_title': 'Love my Moka pots!',\n",
       "  'review_time': '07 9, 2015',\n",
       "  'images': ['https://images-na.ssl-images-amazon.com/images/I/719NCqw4GML._SY88.jpg'],\n",
       "  'styles': {'Size:': ' 1-Cup', 'Color:': ' Silver'}},\n",
       " {'rating': 5.0,\n",
       "  'reviewer_name': 'Mike Tarrani',\n",
       "  'product_id': 'B00004RFRV',\n",
       "  'review_title': 'Size sometimes matters',\n",
       "  'review_time': '03 7, 2013',\n",
       "  'images': ['https://images-na.ssl-images-amazon.com/images/I/71aRHnB4ATL._SY88.jpg'],\n",
       "  'styles': {'Size:': ' 12-Cup', 'Color:': ' Silver'}},\n",
       " {'rating': 5.0,\n",
       "  'reviewer_name': 'N. Lazar',\n",
       "  'product_id': 'B00004RFRV',\n",
       "  'review_title': 'My number 1 method for making coffee',\n",
       "  'review_time': '02 7, 2013',\n",
       "  'images': ['https://images-na.ssl-images-amazon.com/images/I/61+77CLdkpL._SY88.jpg'],\n",
       "  'styles': {'Size:': ' 6-Cup', 'Color:': ' Silver'}},\n",
       " {'rating': 5.0,\n",
       "  'reviewer_name': 'Jonathan Sabin',\n",
       "  'product_id': 'B00004RFRV',\n",
       "  'review_title': 'Smooo---ooo----oooo--th!!',\n",
       "  'review_time': '10 2, 2007',\n",
       "  'images': ['https://images-na.ssl-images-amazon.com/images/I/51XtijrZHBL._SY88.jpg'],\n",
       "  'styles': {'Size:': ' 6-Cup', 'Color:': ' Silver'}},\n",
       " {'rating': 5.0,\n",
       "  'reviewer_name': 'Alexander Lamakin',\n",
       "  'product_id': 'B00004S8DX',\n",
       "  'review_title': 'This is my good buy.',\n",
       "  'review_time': '11 29, 2016',\n",
       "  'images': ['https://images-na.ssl-images-amazon.com/images/I/7184SwO3X-L._SY88.jpg'],\n",
       "  'styles': {'Size:': ' Regular-used'}},\n",
       " {'rating': 5.0,\n",
       "  'reviewer_name': 'Joseph P. Long',\n",
       "  'product_id': 'B00004SPD9',\n",
       "  'review_title': 'This thing is awesome!',\n",
       "  'review_time': '12 31, 2008',\n",
       "  'images': ['https://images-na.ssl-images-amazon.com/images/I/615ODQakzjL._SY88.jpg'],\n",
       "  'styles': {'Color:': ' Walnut (Hand Coffee Mill)'}},\n",
       " {'rating': 5.0,\n",
       "  'reviewer_name': 'stampmom9 Dawn Gallop',\n",
       "  'product_id': 'B00004SPD9',\n",
       "  'review_title': 'Wonderful coffee grinder!',\n",
       "  'review_time': '03 3, 2016',\n",
       "  'images': ['https://images-na.ssl-images-amazon.com/images/I/71YBeh+J1rL._SY88.jpg'],\n",
       "  'styles': {'Color:': ' Walnut'}},\n",
       " {'rating': 4.0,\n",
       "  'reviewer_name': 'jason wheeler',\n",
       "  'product_id': 'B00004W4UQ',\n",
       "  'review_title': 'As described. Nice.',\n",
       "  'review_time': '07 6, 2016',\n",
       "  'images': ['https://images-na.ssl-images-amazon.com/images/I/71lxd+GJoEL._SY88.jpg'],\n",
       "  'styles': {'Package Quantity:': ' 1'}},\n",
       " {'rating': 5.0,\n",
       "  'reviewer_name': 'ERO - Edge',\n",
       "  'product_id': 'B00005IBX9',\n",
       "  'review_title': 'Holding up just fine.',\n",
       "  'review_time': '05 8, 2011',\n",
       "  'images': ['https://images-na.ssl-images-amazon.com/images/I/510LMp8tiqL._SY88.jpg'],\n",
       "  'styles': {'Color:': ' Brushed Chrome'}},\n",
       " {'rating': 4.0,\n",
       "  'reviewer_name': 'Jittoku',\n",
       "  'product_id': 'B00005LM0T',\n",
       "  'review_title': 'Wonderful French Press, but not without its problems',\n",
       "  'review_time': '04 5, 2018',\n",
       "  'images': ['https://images-na.ssl-images-amazon.com/images/I/71in+P1+Q7L._SY88.jpg',\n",
       "   'https://images-na.ssl-images-amazon.com/images/I/71AS29KGbPL._SY88.jpg'],\n",
       "  'styles': {'Size:': ' 17 oz.', 'Package Type:': ' Standard Packaging'}},\n",
       " {'rating': 5.0,\n",
       "  'reviewer_name': 'Nancy Howe',\n",
       "  'product_id': 'B00005LM0V',\n",
       "  'review_title': 'Wonderful for Special Occasions or Coffee Emergencies!',\n",
       "  'review_time': '05 13, 2015',\n",
       "  'images': ['https://images-na.ssl-images-amazon.com/images/I/61H3kUofLbL._SY88.jpg'],\n",
       "  'styles': {'Size:': ' 34 oz.', 'Color:': ' Gold'}},\n",
       " {'rating': 4.0,\n",
       "  'reviewer_name': 'Honest Rating',\n",
       "  'product_id': 'B00005LM0V',\n",
       "  'review_title': 'absolutely gorgeous!',\n",
       "  'review_time': '04 3, 2012',\n",
       "  'images': ['https://images-na.ssl-images-amazon.com/images/I/716bNNBjFSL._SY88.png'],\n",
       "  'styles': {'Size:': ' 34 oz.', 'Color:': ' Gold'}},\n",
       " {'rating': 4.0,\n",
       "  'reviewer_name': 'Taylor Shmaylor',\n",
       "  'product_id': 'B00005LM0T',\n",
       "  'review_title': 'Nice and large, but a pain to press',\n",
       "  'review_time': '12 21, 2016',\n",
       "  'images': ['https://images-na.ssl-images-amazon.com/images/I/71H40hLOIZL._SY88.jpg',\n",
       "   'https://images-na.ssl-images-amazon.com/images/I/817jof9F7vL._SY88.jpg'],\n",
       "  'styles': {'Size:': ' 51 oz.', 'Package Type:': ' Standard Packaging'}},\n",
       " {'rating': 5.0,\n",
       "  'reviewer_name': 'AA',\n",
       "  'product_id': 'B00005LM0T',\n",
       "  'review_title': 'A great way to get rich tasting coffee.',\n",
       "  'review_time': '12 7, 2015',\n",
       "  'images': ['https://images-na.ssl-images-amazon.com/images/I/51IabPZ-+2L._SY88.jpg'],\n",
       "  'styles': {'Size:': ' 51 oz.', 'Package Type:': ' Standard Packaging'}},\n",
       " {'rating': 5.0,\n",
       "  'reviewer_name': 'Nicholas Driscoll',\n",
       "  'product_id': 'B00005LM0T',\n",
       "  'review_title': 'It makes a great cup of joe and looks as if it will ...',\n",
       "  'review_time': '11 11, 2015',\n",
       "  'images': ['https://images-na.ssl-images-amazon.com/images/I/71jfdlOLIxL._SY88.jpg'],\n",
       "  'styles': {'Size:': ' 12 oz.', 'Package Type:': ' Standard Packaging'}},\n",
       " {'rating': 5.0,\n",
       "  'reviewer_name': 'Jan',\n",
       "  'product_id': 'B00005MF9C',\n",
       "  'review_title': \"... yet but bought what I think will be a better mug because it's stainless inside & out unlike the ...\",\n",
       "  'review_time': '07 13, 2017',\n",
       "  'images': ['https://images-na.ssl-images-amazon.com/images/I/61+FIYkLBIL._SY88.jpg'],\n",
       "  'styles': {'Color:': ' Black/Stainless Steel'}},\n",
       " {'rating': 5.0,\n",
       "  'reviewer_name': 'catherine',\n",
       "  'product_id': 'B00005MF9C',\n",
       "  'review_title': '1800 Cups and Still Going Strong!',\n",
       "  'review_time': '10 8, 2016',\n",
       "  'images': ['https://images-na.ssl-images-amazon.com/images/I/71UQk1cCY+L._SY88.jpg'],\n",
       "  'styles': {'Color:': ' Black/Stainless Steel'}},\n",
       " {'rating': 4.0,\n",
       "  'reviewer_name': 'KV Trout',\n",
       "  'product_id': 'B00005MF9C',\n",
       "  'review_title': 'This is a really good coffee maker although poorly designed',\n",
       "  'review_time': '01 15, 2013',\n",
       "  'images': ['https://images-na.ssl-images-amazon.com/images/I/51-1nHWM3FL._SY88.jpg'],\n",
       "  'styles': {'Color:': ' Black/Stainless Steel'}},\n",
       " {'rating': 4.0,\n",
       "  'reviewer_name': 'Sinister',\n",
       "  'product_id': 'B00005NCX5',\n",
       "  'review_title': 'So far, so good!',\n",
       "  'review_time': '09 9, 2017',\n",
       "  'images': ['https://images-na.ssl-images-amazon.com/images/I/71i48+HIQYL._SY88.jpg'],\n",
       "  'styles': {'Style Name:': ' Coffee Maker'}},\n",
       " {'rating': 5.0,\n",
       "  'reviewer_name': 'Dale E. Hammerschmidt',\n",
       "  'product_id': 'B00005NCWY',\n",
       "  'review_title': 'A terrific pan for baking Gugelhupf',\n",
       "  'review_time': '03 13, 2017',\n",
       "  'images': ['https://images-na.ssl-images-amazon.com/images/I/81xWjiIDOpL._SY88.jpg'],\n",
       "  'styles': {'Style Name:': ' Bavarian'}},\n",
       " {'rating': 5.0,\n",
       "  'reviewer_name': 'Amazon Customer',\n",
       "  'product_id': 'B00005NCWQ',\n",
       "  'review_title': 'Clean look.',\n",
       "  'review_time': '07 23, 2017',\n",
       "  'images': ['https://images-na.ssl-images-amazon.com/images/I/719iwV+++SL._SY88.jpg',\n",
       "   'https://images-na.ssl-images-amazon.com/images/I/710uNQXmpyL._SY88.jpg'],\n",
       "  'styles': {'Size:': ' 8-Cup'}},\n",
       " {'rating': 5.0,\n",
       "  'reviewer_name': 'Jean-Claude Van Darn',\n",
       "  'product_id': 'B00005NCWQ',\n",
       "  'review_title': 'Well made with a charming nostalgic design.',\n",
       "  'review_time': '05 22, 2017',\n",
       "  'images': ['https://images-na.ssl-images-amazon.com/images/I/613Dj78CiqL._SY88.jpg'],\n",
       "  'styles': {'Size:': ' 8-Cup'}},\n",
       " {'rating': 4.0,\n",
       "  'reviewer_name': 'Chief',\n",
       "  'product_id': 'B00005NCWQ',\n",
       "  'review_title': 'Farberware Yosemite Percolator',\n",
       "  'review_time': '04 29, 2017',\n",
       "  'images': ['https://images-na.ssl-images-amazon.com/images/I/615l-Cs9elL._SY88.jpg'],\n",
       "  'styles': {'Size:': ' 8-Cup'}},\n",
       " {'rating': 5.0,\n",
       "  'reviewer_name': 'dvrmasik',\n",
       "  'product_id': 'B00005NCWQ',\n",
       "  'review_title': 'rich and aromatic coffee',\n",
       "  'review_time': '05 5, 2016',\n",
       "  'images': ['https://images-na.ssl-images-amazon.com/images/I/81fgcTsXRwL._SY88.jpg',\n",
       "   'https://images-na.ssl-images-amazon.com/images/I/81bsfG7k7kL._SY88.jpg'],\n",
       "  'styles': {'Size:': ' 8-Cup'}},\n",
       " {'rating': 5.0,\n",
       "  'reviewer_name': 'Tommygun',\n",
       "  'product_id': 'B00005NCWQ',\n",
       "  'review_title': 'Makes terrific coffee!',\n",
       "  'review_time': '05 5, 2015',\n",
       "  'images': ['https://images-na.ssl-images-amazon.com/images/I/81IiiimYqNL._SY88.jpg'],\n",
       "  'styles': {'Size:': ' 8-Cup'}},\n",
       " {'rating': 5.0,\n",
       "  'reviewer_name': 'Marilyn',\n",
       "  'product_id': 'B00005NCWQ',\n",
       "  'review_title': 'Best coffee...Love it!',\n",
       "  'review_time': '04 27, 2015',\n",
       "  'images': ['https://images-na.ssl-images-amazon.com/images/I/71imaNbUlvL._SY88.jpg'],\n",
       "  'styles': {'Size:': ' 8-Cup'}},\n",
       " {'rating': 5.0,\n",
       "  'reviewer_name': 'Howright',\n",
       "  'product_id': 'B00005NCWQ',\n",
       "  'review_title': \"Best purchase I've made in a long time!\",\n",
       "  'review_time': '09 7, 2012',\n",
       "  'images': ['https://images-na.ssl-images-amazon.com/images/I/417LVTzsk3L._SY88.jpg',\n",
       "   'https://images-na.ssl-images-amazon.com/images/I/61LX5gTz0WL._SY88.jpg',\n",
       "   'https://images-na.ssl-images-amazon.com/images/I/51xXobRMjKL._SY88.jpg',\n",
       "   'https://images-na.ssl-images-amazon.com/images/I/71rJSPhJiQL._SY88.jpg'],\n",
       "  'styles': {'Size:': ' 8-Cup'}},\n",
       " {'rating': 5.0,\n",
       "  'reviewer_name': 'A. Kronberg',\n",
       "  'product_id': 'B00005OTXY',\n",
       "  'review_title': 'this pot did a great job of boiling water in 20 minutes',\n",
       "  'review_time': '09 4, 2017',\n",
       "  'images': ['https://images-na.ssl-images-amazon.com/images/I/71jzwfSoRiL._SY88.jpg'],\n",
       "  'styles': {'Size:': ' One Size', 'Color:': ' Black'}},\n",
       " {'rating': 5.0,\n",
       "  'reviewer_name': 'Wyo Steve',\n",
       "  'product_id': 'B00005RKOF',\n",
       "  'review_title': 'Perfect coffee water measuring cup',\n",
       "  'review_time': '12 23, 2015',\n",
       "  'images': ['https://images-na.ssl-images-amazon.com/images/I/718MLN9OSxL._SY88.jpg'],\n",
       "  'styles': {'Size:': ' 4 Cup'}},\n",
       " {'rating': 5.0,\n",
       "  'reviewer_name': 'Melissa Coy',\n",
       "  'product_id': 'B00005U2DO',\n",
       "  'review_title': 'Best piece of furniture my daughter has!',\n",
       "  'review_time': '03 13, 2017',\n",
       "  'images': ['https://images-na.ssl-images-amazon.com/images/I/71rb1uAvjBL._SY88.jpg',\n",
       "   'https://images-na.ssl-images-amazon.com/images/I/716AxHe-idL._SY88.jpg'],\n",
       "  'styles': {'Size:': ' 1', 'Color:': ' White'}},\n",
       " {'rating': 5.0,\n",
       "  'reviewer_name': 'KMac',\n",
       "  'product_id': 'B00005YY9X',\n",
       "  'review_title': 'If you want to keep it hot, get this one.',\n",
       "  'review_time': '03 25, 2016',\n",
       "  'images': ['https://images-na.ssl-images-amazon.com/images/I/515O4b7qYYL._SY88.jpg',\n",
       "   'https://images-na.ssl-images-amazon.com/images/I/613jmjPEGuL._SY88.jpg',\n",
       "   'https://images-na.ssl-images-amazon.com/images/I/61ML+yO6EPL._SY88.jpg',\n",
       "   'https://images-na.ssl-images-amazon.com/images/I/61uflGldJcL._SY88.jpg'],\n",
       "  'styles': {'Size:': ' 51 oz.'}},\n",
       " {'rating': 5.0,\n",
       "  'reviewer_name': 'Alice Wakefield',\n",
       "  'product_id': 'B00005YY9X',\n",
       "  'review_title': '12 years of heavy use - lasted longer than ex-husband',\n",
       "  'review_time': '10 6, 2007',\n",
       "  'images': ['https://images-na.ssl-images-amazon.com/images/I/51+LtjCP8HL._SY88.jpg'],\n",
       "  'styles': {'Size:': ' 34 oz.'}},\n",
       " {'rating': 5.0,\n",
       "  'reviewer_name': 'Cherie E.',\n",
       "  'product_id': 'B000063SRL',\n",
       "  'review_title': 'More than just a cutting board!',\n",
       "  'review_time': '08 10, 2016',\n",
       "  'images': ['https://images-na.ssl-images-amazon.com/images/I/61oleNoBZ7L._SY88.jpg',\n",
       "   'https://images-na.ssl-images-amazon.com/images/I/71FumLGotfL._SY88.jpg',\n",
       "   'https://images-na.ssl-images-amazon.com/images/I/71MHMHDel+L._SY88.jpg',\n",
       "   'https://images-na.ssl-images-amazon.com/images/I/61gZsMGlRlL._SY88.jpg',\n",
       "   'https://images-na.ssl-images-amazon.com/images/I/61QVdUMKB2L._SY88.jpg'],\n",
       "  'styles': {'Size:': ' 14 by 17 inches', 'Color:': ' Granite Color'}},\n",
       " {'rating': 5.0,\n",
       "  'reviewer_name': 'A. Sullivan',\n",
       "  'product_id': 'B000063SSI',\n",
       "  'review_title': 'Hand wash only',\n",
       "  'review_time': '06 10, 2015',\n",
       "  'images': ['https://images-na.ssl-images-amazon.com/images/I/71j9qBm514L._SY88.jpg'],\n",
       "  'styles': {'Package Quantity:': ' 1'}},\n",
       " {'rating': 5.0,\n",
       "  'reviewer_name': 'Kindle Customer',\n",
       "  'product_id': 'B00006IFQJ',\n",
       "  'review_title': 'I love this small butter pot',\n",
       "  'review_time': '05 18, 2016',\n",
       "  'images': ['https://images-na.ssl-images-amazon.com/images/I/71vU2ujX1hL._SY88.jpg',\n",
       "   'https://images-na.ssl-images-amazon.com/images/I/71UpfzCjryL._SY88.jpg'],\n",
       "  'styles': {'Size:': ' None', 'Color:': ' Silver'}},\n",
       " {'rating': 5.0,\n",
       "  'reviewer_name': 'Terri S',\n",
       "  'product_id': 'B00006IFQJ',\n",
       "  'review_title': 'Perfect for those people who care about their time in the kitchen',\n",
       "  'review_time': '04 27, 2016',\n",
       "  'images': ['https://images-na.ssl-images-amazon.com/images/I/81dX1CZUbkL._SY88.jpg',\n",
       "   'https://images-na.ssl-images-amazon.com/images/I/813g2O-7M4L._SY88.jpg'],\n",
       "  'styles': {'Size:': ' None', 'Color:': ' Silver'}},\n",
       " {'rating': 5.0,\n",
       "  'reviewer_name': 'Susan C',\n",
       "  'product_id': 'B00006IFQJ',\n",
       "  'review_title': 'I LOVE THIS LITTLE POT!!!',\n",
       "  'review_time': '04 10, 2016',\n",
       "  'images': ['https://images-na.ssl-images-amazon.com/images/I/61ATK5Xz2zL._SY88.jpg'],\n",
       "  'styles': {'Size:': ' None', 'Color:': ' Silver'}},\n",
       " {'rating': 4.0,\n",
       "  'reviewer_name': 'Kort',\n",
       "  'product_id': 'B00006IZY5',\n",
       "  'review_title': 'Good Gift For A Coffee Connoisseur On Your List',\n",
       "  'review_time': '10 5, 2017',\n",
       "  'images': ['https://images-na.ssl-images-amazon.com/images/I/71gkR6uADvL._SY88.jpg',\n",
       "   'https://images-na.ssl-images-amazon.com/images/I/61EFi0ZC8AL._SY88.jpg',\n",
       "   'https://images-na.ssl-images-amazon.com/images/I/71R4QHP3XKL._SY88.jpg'],\n",
       "  'styles': {'Style Name:': ' Travel Mug'}},\n",
       " {'rating': 5.0,\n",
       "  'reviewer_name': 'Samuel D. Self',\n",
       "  'product_id': 'B00009ADDR',\n",
       "  'review_title': 'Very sturdy, very heavy construction, will last a lifetime.',\n",
       "  'review_time': '04 17, 2018',\n",
       "  'images': ['https://images-na.ssl-images-amazon.com/images/I/71C5rEGDqfL._SY88.jpg',\n",
       "   'https://images-na.ssl-images-amazon.com/images/I/71rsteNCgfL._SY88.jpg',\n",
       "   'https://images-na.ssl-images-amazon.com/images/I/71B4oTj4qQL._SY88.jpg'],\n",
       "  'styles': {'Size:': ' 44 Ounce', 'Color:': ' Brushed'}},\n",
       " {'rating': 5.0,\n",
       "  'reviewer_name': 'Rob S.',\n",
       "  'product_id': 'B00009ADDR',\n",
       "  'review_title': 'Blacker than the picture on Amazon looks!',\n",
       "  'review_time': '07 14, 2017',\n",
       "  'images': ['https://images-na.ssl-images-amazon.com/images/I/71CR7TbQfqL._SY88.jpg'],\n",
       "  'styles': {'Size:': ' 23 Ounce', 'Color:': ' Black Metallic'}},\n",
       " {'rating': 4.0,\n",
       "  'reviewer_name': 'Dave Lakhani',\n",
       "  'product_id': 'B00009ADDR',\n",
       "  'review_title': 'Beautiful, Well Designed Press But Really Only Big Enough For About Two Regular Cups Of Coffee',\n",
       "  'review_time': '11 9, 2016',\n",
       "  'images': ['https://images-na.ssl-images-amazon.com/images/I/61Am8Yh09VL._SY88.jpg'],\n",
       "  'styles': {'Size:': ' 17 Ounce', 'Color:': ' Polished'}},\n",
       " {'rating': 5.0,\n",
       "  'reviewer_name': 'J. Sullivan',\n",
       "  'product_id': 'B00009ADDR',\n",
       "  'review_title': 'Impressive Filtration and Exceptionally High Quality',\n",
       "  'review_time': '11 4, 2016',\n",
       "  'images': ['https://images-na.ssl-images-amazon.com/images/I/41ESEiuFMHL._SY88.jpg'],\n",
       "  'styles': {'Size:': ' 17 Ounce', 'Color:': ' Polished'}},\n",
       " {'rating': 5.0,\n",
       "  'reviewer_name': 'Michael Z (QA Engineer)',\n",
       "  'product_id': 'B00009ADDR',\n",
       "  'review_title': 'One great French Press coffee maker',\n",
       "  'review_time': '07 9, 2016',\n",
       "  'images': ['https://images-na.ssl-images-amazon.com/images/I/71PPtdi9tKL._SY88.jpg',\n",
       "   'https://images-na.ssl-images-amazon.com/images/I/71bj92rH3qL._SY88.jpg'],\n",
       "  'styles': {'Size:': ' 23-Ounce', 'Color:': ' Brushed'}},\n",
       " {'rating': 5.0,\n",
       "  'reviewer_name': 'DDPartington',\n",
       "  'product_id': 'B00009ADDR',\n",
       "  'review_title': 'Exceptional Brewer for those wanting a Minimilistic approach for Great Coffee!',\n",
       "  'review_time': '12 29, 2015',\n",
       "  'images': ['https://images-na.ssl-images-amazon.com/images/I/71aup0OQx0L._SY88.jpg'],\n",
       "  'styles': {'Size:': ' 36 Ounce', 'Color:': ' Polished'}},\n",
       " {'rating': 4.0,\n",
       "  'reviewer_name': 'Nadia M',\n",
       "  'product_id': 'B00009ADDR',\n",
       "  'review_title': \"Excellent Quality Press but it's not TWO CUPS!!!\",\n",
       "  'review_time': '10 14, 2013',\n",
       "  'images': ['https://images-na.ssl-images-amazon.com/images/I/61yzqQx-8ML._SY88.jpg'],\n",
       "  'styles': {'Size:': ' 17-Ounce', 'Color:': ' Polished'}},\n",
       " {'rating': 5.0,\n",
       "  'reviewer_name': 'Thicket',\n",
       "  'product_id': 'B00009ADDR',\n",
       "  'review_title': 'This press is stout!',\n",
       "  'review_time': '12 4, 2007',\n",
       "  'images': ['https://images-na.ssl-images-amazon.com/images/I/41xt8zREjbL._SY88.jpg'],\n",
       "  'styles': {'Size:': ' 36-Ounce', 'Color:': ' Polished'}},\n",
       " {'rating': 5.0,\n",
       "  'reviewer_name': 'barkingburro',\n",
       "  'product_id': 'B00009OWEV',\n",
       "  'review_title': 'One of the best ways to brew coffee',\n",
       "  'review_time': '12 28, 2009',\n",
       "  'images': ['https://images-na.ssl-images-amazon.com/images/I/41+Tpr2PULL._SY88.jpg',\n",
       "   'https://images-na.ssl-images-amazon.com/images/I/61tcKszhiFL._SY88.jpg'],\n",
       "  'styles': {'Size:': ' 1-Liter', 'Color:': ' Black'}},\n",
       " {'rating': 5.0,\n",
       "  'reviewer_name': 'FarmD',\n",
       "  'product_id': 'B00009RXMQ',\n",
       "  'review_title': 'Fairly simple to use and cheaper than going to starbucks',\n",
       "  'review_time': '07 19, 2013',\n",
       "  'images': ['https://images-na.ssl-images-amazon.com/images/I/61zqVv0geSL._SY88.png',\n",
       "   'https://images-na.ssl-images-amazon.com/images/I/81KT-A-ybUL._SY88.png',\n",
       "   'https://images-na.ssl-images-amazon.com/images/I/81WPg4z-zPL._SY88.png',\n",
       "   'https://images-na.ssl-images-amazon.com/images/I/51-1v4azTTL._SY88.jpg',\n",
       "   'https://images-na.ssl-images-amazon.com/images/I/51zLmSR8sdL._SY88.jpg'],\n",
       "  'styles': {'Color:': ' Black'}},\n",
       " {'rating': 5.0,\n",
       "  'reviewer_name': 'John',\n",
       "  'product_id': 'B00009V4FI',\n",
       "  'review_title': 'Does the trick and is very attractive',\n",
       "  'review_time': '11 23, 2012',\n",
       "  'images': ['https://images-na.ssl-images-amazon.com/images/I/61z9nGr0irL._SY88.jpg'],\n",
       "  'styles': {'Size:': ' 16 Ounce', 'Package Quantity:': ' 1'}},\n",
       " {'rating': 5.0,\n",
       "  'reviewer_name': 'Carly R.',\n",
       "  'product_id': 'B00009V4FI',\n",
       "  'review_title': 'Does the Job',\n",
       "  'review_time': '08 27, 2012',\n",
       "  'images': ['https://images-na.ssl-images-amazon.com/images/I/517Z35F4+lL._SY88.jpg',\n",
       "   'https://images-na.ssl-images-amazon.com/images/I/51kLrPCyqrL._SY88.jpg'],\n",
       "  'styles': {'Size:': ' 32 Ounce', 'Package Quantity:': ' 1'}},\n",
       " {'rating': 5.0,\n",
       "  'reviewer_name': 'Bill',\n",
       "  'product_id': 'B0000A1ZMS',\n",
       "  'review_title': \"Nothin' Wrong This!\",\n",
       "  'review_time': '03 26, 2017',\n",
       "  'images': ['https://images-na.ssl-images-amazon.com/images/I/71SeAR4TQpL._SY88.jpg',\n",
       "   'https://images-na.ssl-images-amazon.com/images/I/713OdFQilbL._SY88.jpg'],\n",
       "  'styles': {'Color:': ' Black', 'Style Name:': ' Coffeemaker'}},\n",
       " {'rating': 4.0,\n",
       "  'reviewer_name': 'Mr. Walker',\n",
       "  'product_id': 'B0000A1ZMS',\n",
       "  'review_title': 'Good flavor, strength, and temp.; can get HOT',\n",
       "  'review_time': '03 5, 2014',\n",
       "  'images': ['https://images-na.ssl-images-amazon.com/images/I/51xMBNHSSoL._SY88.jpg',\n",
       "   'https://images-na.ssl-images-amazon.com/images/I/41GZeQPMW0L._SY88.jpg',\n",
       "   'https://images-na.ssl-images-amazon.com/images/I/41LurFC9+PL._SY88.jpg',\n",
       "   'https://images-na.ssl-images-amazon.com/images/I/51PxqDbouML._SY88.jpg'],\n",
       "  'styles': {'Color:': ' Black', 'Style Name:': ' Coffeemaker'}},\n",
       " {'rating': 5.0,\n",
       "  'reviewer_name': 'mamacarla',\n",
       "  'product_id': 'B0000A1ZMS',\n",
       "  'review_title': 'Cute, functional',\n",
       "  'review_time': '01 3, 2014',\n",
       "  'images': ['https://images-na.ssl-images-amazon.com/images/I/71hUhHKHgQL._SY88.jpg'],\n",
       "  'styles': {'Color:': ' Pink', 'Style Name:': ' Coffeemaker'}},\n",
       " {'rating': 5.0,\n",
       "  'reviewer_name': 'Noah Boddy',\n",
       "  'product_id': 'B0000AN4CO',\n",
       "  'review_title': 'Keeps the air out of there!',\n",
       "  'review_time': '09 7, 2016',\n",
       "  'images': ['https://images-na.ssl-images-amazon.com/images/I/71gmvQNa1tL._SY88.jpg',\n",
       "   'https://images-na.ssl-images-amazon.com/images/I/71RSpp+yRNL._SY88.jpg',\n",
       "   'https://images-na.ssl-images-amazon.com/images/I/71i-w1td8pL._SY88.jpg'],\n",
       "  'styles': {'Size:': ' 6.1 x 6.1 x 10.1\"'}},\n",
       " {'rating': 5.0,\n",
       "  'reviewer_name': 'Julie Freeman',\n",
       "  'product_id': 'B0000CCQKV',\n",
       "  'review_title': 'Awesome product...great price!',\n",
       "  'review_time': '08 17, 2016',\n",
       "  'images': ['https://images-na.ssl-images-amazon.com/images/I/613WVFu8KDL._SY88.jpg'],\n",
       "  'styles': {'Size:': ' 2 Bundlers'}},\n",
       " {'rating': 4.0,\n",
       "  'reviewer_name': 'Homer',\n",
       "  'product_id': 'B0000CFFS6',\n",
       "  'review_title': 'Works great once you figure out how to take it off',\n",
       "  'review_time': '01 2, 2016',\n",
       "  'images': ['https://images-na.ssl-images-amazon.com/images/I/71l3LH-AH4L._SY88.jpg'],\n",
       "  'styles': {'Style Name:': ' Regular Mouth'}},\n",
       " {'rating': 5.0,\n",
       "  'reviewer_name': 'Crystal',\n",
       "  'product_id': 'B0000CFLCT',\n",
       "  'review_title': 'Exactly what I needed',\n",
       "  'review_time': '04 23, 2018',\n",
       "  'images': ['https://images-na.ssl-images-amazon.com/images/I/61ennMa+zML._SY88.jpg'],\n",
       "  'styles': {'Size:': ' Pack of 1',\n",
       "   'Style:': ' 6 Cup Cone with Glass Carafe'}},\n",
       " {'rating': 5.0,\n",
       "  'reviewer_name': 'D. Currie',\n",
       "  'product_id': 'B0000CFLCT',\n",
       "  'review_title': 'I absolutely love this!  Makes delicious coffee even if the power goes out.',\n",
       "  'review_time': '09 20, 2017',\n",
       "  'images': ['https://images-na.ssl-images-amazon.com/images/I/81pvv9VQw3L._SY88.jpg'],\n",
       "  'styles': {'Size:': ' Pack of 1',\n",
       "   'Style:': ' 6 Cup Cone with Glass Carafe'}}]"
      ]
     },
     "execution_count": 30,
     "metadata": {},
     "output_type": "execute_result"
    }
   ],
   "source": [
    "list(filter(is_positive, reviews))"
   ]
  },
  {
   "cell_type": "code",
   "execution_count": 31,
   "metadata": {},
   "outputs": [],
   "source": [
    "def get_positive_reviews(review_list):\n",
    "    return list(filter(is_positive, reviews))"
   ]
  },
  {
   "cell_type": "code",
   "execution_count": 32,
   "metadata": {},
   "outputs": [
    {
     "data": {
      "text/plain": [
       "[{'rating': 5.0,\n",
       "  'reviewer_name': 'mamacarla',\n",
       "  'product_id': 'B0000A1ZMS',\n",
       "  'review_title': 'Cute, functional',\n",
       "  'review_time': '01 3, 2014',\n",
       "  'images': ['https://images-na.ssl-images-amazon.com/images/I/71hUhHKHgQL._SY88.jpg'],\n",
       "  'styles': {'Color:': ' Pink', 'Style Name:': ' Coffeemaker'}},\n",
       " {'rating': 5.0,\n",
       "  'reviewer_name': 'Amazon Customer',\n",
       "  'product_id': 'B00005NCWQ',\n",
       "  'review_title': 'Clean look.',\n",
       "  'review_time': '07 23, 2017',\n",
       "  'images': ['https://images-na.ssl-images-amazon.com/images/I/719iwV+++SL._SY88.jpg',\n",
       "   'https://images-na.ssl-images-amazon.com/images/I/710uNQXmpyL._SY88.jpg'],\n",
       "  'styles': {'Size:': ' 8-Cup'}},\n",
       " {'rating': 5.0,\n",
       "  'reviewer_name': 'Carly R.',\n",
       "  'product_id': 'B00009V4FI',\n",
       "  'review_title': 'Does the Job',\n",
       "  'review_time': '08 27, 2012',\n",
       "  'images': ['https://images-na.ssl-images-amazon.com/images/I/517Z35F4+lL._SY88.jpg',\n",
       "   'https://images-na.ssl-images-amazon.com/images/I/51kLrPCyqrL._SY88.jpg'],\n",
       "  'styles': {'Size:': ' 32 Ounce', 'Package Quantity:': ' 1'}}]"
      ]
     },
     "execution_count": 32,
     "metadata": {},
     "output_type": "execute_result"
    }
   ],
   "source": [
    "random.sample(get_positive_reviews(reviews), 3)"
   ]
  },
  {
   "cell_type": "code",
   "execution_count": 33,
   "metadata": {},
   "outputs": [],
   "source": [
    "def get_positive_review_sample(review_list, num_sample):\n",
    "    return random.sample(get_positive_reviews(review_list), num_sample)"
   ]
  },
  {
   "cell_type": "code",
   "execution_count": 34,
   "metadata": {},
   "outputs": [
    {
     "data": {
      "text/plain": [
       "[{'rating': 5.0,\n",
       "  'reviewer_name': 'Kindle Customer',\n",
       "  'product_id': 'B00006IFQJ',\n",
       "  'review_title': 'I love this small butter pot',\n",
       "  'review_time': '05 18, 2016',\n",
       "  'images': ['https://images-na.ssl-images-amazon.com/images/I/71vU2ujX1hL._SY88.jpg',\n",
       "   'https://images-na.ssl-images-amazon.com/images/I/71UpfzCjryL._SY88.jpg'],\n",
       "  'styles': {'Size:': ' None', 'Color:': ' Silver'}},\n",
       " {'rating': 5.0,\n",
       "  'reviewer_name': 'Karen',\n",
       "  'product_id': 'B00004RFRV',\n",
       "  'review_title': 'Bialetti is the Best!',\n",
       "  'review_time': '11 12, 2017',\n",
       "  'images': ['https://images-na.ssl-images-amazon.com/images/I/81+XxFRGyBL._SY88.jpg'],\n",
       "  'styles': {'Size:': ' 12-Cup', 'Color:': ' Silver'}},\n",
       " {'rating': 5.0,\n",
       "  'reviewer_name': 'Bill',\n",
       "  'product_id': 'B0000A1ZMS',\n",
       "  'review_title': \"Nothin' Wrong This!\",\n",
       "  'review_time': '03 26, 2017',\n",
       "  'images': ['https://images-na.ssl-images-amazon.com/images/I/71SeAR4TQpL._SY88.jpg',\n",
       "   'https://images-na.ssl-images-amazon.com/images/I/713OdFQilbL._SY88.jpg'],\n",
       "  'styles': {'Color:': ' Black', 'Style Name:': ' Coffeemaker'}},\n",
       " {'rating': 5.0,\n",
       "  'reviewer_name': 'catherine',\n",
       "  'product_id': 'B00005MF9C',\n",
       "  'review_title': '1800 Cups and Still Going Strong!',\n",
       "  'review_time': '10 8, 2016',\n",
       "  'images': ['https://images-na.ssl-images-amazon.com/images/I/71UQk1cCY+L._SY88.jpg'],\n",
       "  'styles': {'Color:': ' Black/Stainless Steel'}}]"
      ]
     },
     "execution_count": 34,
     "metadata": {},
     "output_type": "execute_result"
    }
   ],
   "source": [
    "# Your code here\n",
    "\n",
    "get_positive_review_sample(reviews, 4)"
   ]
  },
  {
   "cell_type": "markdown",
   "metadata": {},
   "source": [
    "## Individual Review Summary\n",
    "\n",
    "In addition to summarizing the dataset overall and sampling based on criteria, we want the user to be able to query any given record in order to view a summary. Before, we created a variable called `review_index` that the user could modify. Now, let's write some reusable code that doesn't require the user to write any Python at all!\n",
    "\n",
    "Recall that before, our final code looked something like this:"
   ]
  },
  {
   "cell_type": "code",
   "execution_count": 35,
   "metadata": {},
   "outputs": [
    {
     "name": "stdout",
     "output_type": "stream",
     "text": [
      "\"Bialetti is the Best!\": This was a positive review written by Karen in 2017.\n"
     ]
    }
   ],
   "source": [
    "# Run this cell without changes\n",
    "\n",
    "review_index = 2\n",
    "\n",
    "# Extract review from list of reviews\n",
    "selected_review = reviews[review_index]\n",
    "\n",
    "# Extract title\n",
    "selected_review_title = selected_review[\"review_title\"]\n",
    "\n",
    "# Extract rating and format as positive, negative, or neutral\n",
    "selected_rating = selected_review[\"rating\"]\n",
    "if selected_rating >= 4:\n",
    "    selected_sentiment = \"positive\"\n",
    "elif selected_rating <= 2:\n",
    "    selected_sentiment = \"negative\"\n",
    "else:\n",
    "    selected_sentiment = \"neutral\"\n",
    "    \n",
    "# Extract author\n",
    "selected_author = selected_review[\"reviewer_name\"]\n",
    "\n",
    "# Extract year (doesn't need to be int for this use case)\n",
    "selected_year = selected_review[\"review_time\"][-4:]\n",
    "\n",
    "print(f'\"{selected_review_title}\": This was a {selected_sentiment} review written by {selected_author} in {selected_year}.')"
   ]
  },
  {
   "cell_type": "markdown",
   "metadata": {},
   "source": [
    "Rewrite that code as a function called `get_review_summary`, which takes a review dictionary as an argument, and returns a string that resembles the previous summary string, e.g.\n",
    "\n",
    "```\n",
    "\"Bialetti is the Best!\": This was a positive review written by Karen in 2017.\n",
    "```\n",
    "\n",
    "*Hint: look back at the functions you have previously written to see which ones might be useful to call within this function!*"
   ]
  },
  {
   "cell_type": "code",
   "execution_count": 36,
   "metadata": {},
   "outputs": [
    {
     "name": "stdout",
     "output_type": "stream",
     "text": [
      "\"Bialetti is the Best!\": This was a positive review written by Karen in 2017.\n"
     ]
    }
   ],
   "source": [
    "def get_review_summary(review_list):\n",
    "    selected_review_title = review_list[\"review_title\"]\n",
    "    selected_sentiment = review_sentiment(review_list)\n",
    "    selected_author = selected_review[\"reviewer_name\"]\n",
    "    selected_time = review_year(review_list)\n",
    "    return f'\"{selected_review_title}\": This was a {selected_sentiment} review written by {selected_author} in {selected_time}.'\n",
    "    \n",
    "\n",
    "print(get_review_summary(reviews[2])) # \"Bialetti is the Best!\": This was a positive review written by Karen in 2017."
   ]
  },
  {
   "cell_type": "markdown",
   "metadata": {},
   "source": [
    "Now, instead of copying and pasting that every time, we can just call it repeatedly!\n",
    "\n",
    "Write a function that prompts the user to enter a review index, then prints the relevant review summary. The function should be called `review_summary_prompt`, it should take a list of reviews as an argument, and should print information but not return anything.\n",
    "\n",
    "Display the message `\"Please enter a review index: \"` when prompting for input. You can assume that the user will enter a valid index between 0 and 85.\n",
    "\n",
    "Hints:\n",
    "\n",
    " - Use the built-in `input()` function ([check the documentation here to see how to use it!](https://docs.python.org/3/library/functions.html#input))\n",
    " - Remember that this function always returns a string, so you will have to convert the user-supplied index into an integer, otherwise you'll get the error `TypeError: list indices must be integers or slices, not str`\n",
    " - If you're wondering about the type of a given variable, you can use the built-in `type()` function"
   ]
  },
  {
   "cell_type": "code",
   "execution_count": 45,
   "metadata": {},
   "outputs": [],
   "source": [
    "def review_summary_prompt(list_of_reviews):\n",
    "    user_input = input(\"Please enter a review index: \")\n",
    "    index = int(user_input)\n",
    "    review = list_of_reviews[index]\n",
    "    return get_review_summary(review)"
   ]
  },
  {
   "cell_type": "markdown",
   "metadata": {},
   "source": [
    "Run this cell, and try entering 2, 4, 52 (examples of positive, negative, neutral reviews)\n",
    "\n",
    "You can also try any index you want, between 0 and 85!"
   ]
  },
  {
   "cell_type": "code",
   "execution_count": 46,
   "metadata": {},
   "outputs": [
    {
     "name": "stdout",
     "output_type": "stream",
     "text": [
      "Please enter a review index: 10\n"
     ]
    },
    {
     "data": {
      "text/plain": [
       "'\"Works for coffee to !\": This was a positive review written by Karen in 2013.'"
      ]
     },
     "execution_count": 46,
     "metadata": {},
     "output_type": "execute_result"
    }
   ],
   "source": [
    "# Run this cell without changes\n",
    "review_summary_prompt(reviews)"
   ]
  },
  {
   "cell_type": "markdown",
   "metadata": {},
   "source": [
    "## Putting It All Together\n",
    "\n",
    "In this section, we are just calling several of the previously-created functions to double-check that they are working as expected. You do not need to write any more code, although if you notice something wrong with one of your functions you can go back and fix it!  Just make sure that you re-run the cell declaring the function if you want the behavior of calling the function to change.\n",
    "\n",
    "### Data Summary"
   ]
  },
  {
   "cell_type": "code",
   "execution_count": 40,
   "metadata": {},
   "outputs": [
    {
     "name": "stdout",
     "output_type": "stream",
     "text": [
      "The coffee product review dataset contains 86 reviews\n",
      "\n",
      "Review sentiment:\n",
      "67 positive reviews\n",
      "15 negative reviews\n",
      "4 neutral reviews\n",
      "\n",
      "Review years:\n",
      "[2007, 2008, 2009, 2011, 2012, 2013, 2014, 2015, 2016, 2017, 2018]\n"
     ]
    }
   ],
   "source": [
    "# Run this cell without changes\n",
    "\n",
    "print(f\"The coffee product review dataset contains {len(reviews)} reviews\")\n",
    "print()\n",
    "print(\"Review sentiment:\")\n",
    "for key, value in get_sentiment_counts(reviews).items():\n",
    "    print(f\"{value} {key} reviews\")\n",
    "print()\n",
    "print(\"Review years:\")\n",
    "print(get_years(reviews))"
   ]
  },
  {
   "cell_type": "markdown",
   "metadata": {},
   "source": [
    "### Subset Samples"
   ]
  },
  {
   "cell_type": "code",
   "execution_count": 41,
   "metadata": {},
   "outputs": [
    {
     "name": "stdout",
     "output_type": "stream",
     "text": [
      "Examples of positive reviews:\n",
      "\"Beautiful, Well Designed Press But Really Only Big Enough For About Two Regular Cups Of Coffee\": This was a positive review written by Karen in 2016.\n",
      "\"A terrific pan for baking Gugelhupf\": This was a positive review written by Karen in 2017.\n",
      "\"Good flavor, strength, and temp.; can get HOT\": This was a positive review written by Karen in 2014.\n",
      "\"1800 Cups and Still Going Strong!\": This was a positive review written by Karen in 2016.\n",
      "\"My number 1 method for making coffee\": This was a positive review written by Karen in 2013.\n",
      "\n",
      "Examples of negative reviews:\n",
      "\"Works great for a week then fails!\": This was a negative review written by Karen in 2016.\n",
      "\"Good purchase\": This was a negative review written by Karen in 2016.\n",
      "\"Too much waste\": This was a negative review written by Karen in 2017.\n",
      "\"Is it a Bialetti? Came dirty with coffee grounds.\": This was a negative review written by Karen in 2015.\n",
      "\"smelled like the cord was burning\": This was a negative review written by Karen in 2016.\n"
     ]
    }
   ],
   "source": [
    "# Run this cell without changes\n",
    "\n",
    "print(\"Examples of positive reviews:\")\n",
    "positive_samples = get_positive_review_sample(reviews, 5)\n",
    "for review in positive_samples:\n",
    "    print(get_review_summary(review))\n",
    "print()\n",
    "print(\"Examples of negative reviews:\")\n",
    "negative_samples = get_negative_review_sample(reviews, 5)\n",
    "for review in negative_samples:\n",
    "    print(get_review_summary(review))"
   ]
  },
  {
   "cell_type": "markdown",
   "metadata": {},
   "source": [
    "### Summary Prompt"
   ]
  },
  {
   "cell_type": "code",
   "execution_count": 47,
   "metadata": {},
   "outputs": [
    {
     "name": "stdout",
     "output_type": "stream",
     "text": [
      "Please enter a review index: 15\n"
     ]
    },
    {
     "data": {
      "text/plain": [
       "'\"Smooo---ooo----oooo--th!!\": This was a positive review written by Karen in 2007.'"
      ]
     },
     "execution_count": 47,
     "metadata": {},
     "output_type": "execute_result"
    }
   ],
   "source": [
    "# Run this cell without changes\n",
    "review_summary_prompt(reviews)"
   ]
  },
  {
   "cell_type": "markdown",
   "metadata": {},
   "source": [
    "## Conclusion\n",
    "\n",
    "Congratulations, you made it to the end of another cumulative lab! In this lab you practiced refactoring previously-written code to use functions, and using loops to avoid repetition and perform analyses of the whole dataset as well as certain subsets."
   ]
  }
 ],
 "metadata": {
  "kernelspec": {
   "display_name": "Python 3",
   "language": "python",
   "name": "python3"
  },
  "language_info": {
   "codemirror_mode": {
    "name": "ipython",
    "version": 3
   },
   "file_extension": ".py",
   "mimetype": "text/x-python",
   "name": "python",
   "nbconvert_exporter": "python",
   "pygments_lexer": "ipython3",
   "version": "3.8.5"
  }
 },
 "nbformat": 4,
 "nbformat_minor": 4
}
